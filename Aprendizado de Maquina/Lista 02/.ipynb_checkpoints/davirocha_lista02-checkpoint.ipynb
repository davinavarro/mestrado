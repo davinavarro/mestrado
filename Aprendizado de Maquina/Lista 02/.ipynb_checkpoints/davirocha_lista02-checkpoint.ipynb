{
 "cells": [
  {
   "cell_type": "code",
   "execution_count": 29,
   "metadata": {
    "colab": {
     "base_uri": "https://localhost:8080/",
     "height": 38,
     "resources": {
      "http://localhost:8080/nbextensions/google.colab/files.js": {
       "data": "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",
       "headers": [
        [
         "content-type",
         "application/javascript"
        ]
       ],
       "ok": true,
       "status": 200,
       "status_text": ""
      }
     }
    },
    "id": "j2cuLR09LyvF",
    "outputId": "878e7bb3-0d5a-43e1-c95a-87f94b3b891d"
   },
   "outputs": [],
   "source": [
    "import numpy as np\n",
    "import pandas as pd\n",
    "import plotly.express as px\n",
    "import plotly.graph_objects as go\n",
    "import plotly.io as pio\n",
    "from sklearn.tree import DecisionTreeClassifier\n",
    "\n",
    "pio.templates.default = \"seaborn\"\n",
    "RANDOM_STATE = 1234"
   ]
  },
  {
   "cell_type": "markdown",
   "metadata": {
    "id": "sC9ysgGXLyvI",
    "tags": [],
    "toc-hr-collapsed": true
   },
   "source": [
    "# Algoritmos"
   ]
  },
  {
   "cell_type": "markdown",
   "metadata": {
    "id": "IFVBA5cQLyvJ",
    "tags": [],
    "toc-hr-collapsed": true
   },
   "source": [
    "## Regressão Logística"
   ]
  },
  {
   "cell_type": "code",
   "execution_count": null,
   "metadata": {
    "id": "pEOsELmWLyvJ"
   },
   "outputs": [],
   "source": [
    "class LogisticRegression:\n",
    "    \"\"\"Classe de implementação da Regressão Logistica\"\"\"\n",
    "\n",
    "    def __init__(self, alfa=0.5, n_iter=250):\n",
    "        self.alfa = alfa\n",
    "        self.n_iter = n_iter\n",
    "\n",
    "    def sigmoid(self, z):\n",
    "        return 1.0 / (1.0 + np.exp(-z))\n",
    "\n",
    "    def fit(self, X, y):\n",
    "        self.W = np.ones(shape=(1 + X.shape[1])) * 0.5\n",
    "        self.cost_values = []\n",
    "        N = y.size\n",
    "\n",
    "        for i in range(self.n_iter):\n",
    "            output = self.sigmoid(np.dot(X, self.W[1:]) + self.W[0])\n",
    "            errors = y - output\n",
    "            self.W[1:] += (self.alfa / N) * X.T.dot(errors)\n",
    "            self.W[0] += (self.alfa / N) * errors.sum()\n",
    "\n",
    "            cost = -(1 / N) * y.dot(np.log(output)) - ((1 - y).dot(np.log(1 - output)))\n",
    "            self.cost_values.append(cost)\n",
    "\n",
    "    def predict(self, X):\n",
    "        return np.where(np.dot(X, self.W[1:]) + self.W[0] >= 0.0, 1, 0)"
   ]
  },
  {
   "cell_type": "markdown",
   "metadata": {
    "id": "Lor-9G08LyvK",
    "tags": [],
    "toc-hr-collapsed": true
   },
   "source": [
    "## Discriminante Gaussiano"
   ]
  },
  {
   "cell_type": "code",
   "execution_count": null,
   "metadata": {
    "id": "gfn1OiTILyvK"
   },
   "outputs": [],
   "source": [
    "class ADG:\n",
    "    \"\"\"Classe de implementação do Discriminante Gaussiano\"\"\"\n",
    "\n",
    "    def __init__(self):\n",
    "        self.P_CK = dict()\n",
    "        self.mu = dict()\n",
    "        self.sigma = dict()\n",
    "\n",
    "    def fit(self, X, y):\n",
    "        self.labels = np.unique(y)\n",
    "        for k in self.labels:\n",
    "            X_k = X[y == k]\n",
    "            self.P_CK[k] = X_k.shape[0] / X.shape[0]\n",
    "            self.mu[k] = np.mean(X_k, axis=0)\n",
    "            self.sigma[k] = np.cov(X_k, rowvar=False)\n",
    "\n",
    "    def predict(self, X):\n",
    "        pred_list = list()\n",
    "        for xi in X:\n",
    "            logs_list = list()\n",
    "            for k in self.labels:\n",
    "                sigma_inv_mat = np.linalg.pinv(self.sigma[k])\n",
    "                sigma_inv_det = np.linalg.det(sigma_inv_mat)\n",
    "                x_minus_mu = xi - self.mu[k]\n",
    "\n",
    "                log_p_ck = np.log(self.P_CK[k])\n",
    "\n",
    "                ps = (\n",
    "                    0.5 * np.log(sigma_inv_det)\n",
    "                    - 0.5 * x_minus_mu.T @ sigma_inv_mat @ x_minus_mu\n",
    "                )\n",
    "\n",
    "                log_ck = log_p_ck + ps\n",
    "\n",
    "                logs_list.append(log_ck)\n",
    "            pred = self.labels[np.argmax(logs_list)]\n",
    "            pred_list.append(pred)\n",
    "        return np.array(pred_list)"
   ]
  },
  {
   "cell_type": "markdown",
   "metadata": {
    "id": "iZxCaGUdLyvL",
    "tags": [],
    "toc-hr-collapsed": true
   },
   "source": [
    "## Naive Bayes Gaussiano"
   ]
  },
  {
   "cell_type": "code",
   "execution_count": null,
   "metadata": {
    "id": "6NNLN8SaLyvL"
   },
   "outputs": [],
   "source": [
    "class NBG:\n",
    "    \"\"\"Classe de implementação do Naive Bayes Gaussiano\"\"\"\n",
    "\n",
    "    def __init__(self):\n",
    "        self.P_CK = dict()\n",
    "        self.mu = dict()\n",
    "        self.sigma = dict()\n",
    "\n",
    "    def fit(self, X, y):\n",
    "        self.labels = np.unique(y)\n",
    "        for k in self.labels:\n",
    "            X_k = X[y == k]\n",
    "            self.P_CK[k] = X_k.shape[0] / X.shape[0]\n",
    "            self.mu[k] = np.mean(X_k, axis=0)\n",
    "            self.sigma[k] = np.diag(np.diag(np.cov(X_k, rowvar=False)))\n",
    "\n",
    "    def predict(self, X):\n",
    "        pred_list = list()\n",
    "        for xi in X:\n",
    "            logs_list = list()\n",
    "            for k in self.labels:\n",
    "                sigma_inv_mat = np.linalg.inv(self.sigma[k])\n",
    "                sigma_inv_det = np.linalg.det(sigma_inv_mat)\n",
    "                x_minus_mu = xi - self.mu[k]\n",
    "\n",
    "                log_p_ck = np.log(self.P_CK[k])\n",
    "\n",
    "                ps = (\n",
    "                    0.5 * np.log(sigma_inv_det)\n",
    "                    - 0.5 * x_minus_mu.T @ sigma_inv_mat @ x_minus_mu\n",
    "                )\n",
    "\n",
    "                log_ck = log_p_ck + ps\n",
    "\n",
    "                logs_list.append(log_ck)\n",
    "            pred = self.labels[np.argmax(logs_list)]\n",
    "            pred_list.append(pred)\n",
    "        return np.array(pred_list)"
   ]
  },
  {
   "cell_type": "markdown",
   "metadata": {
    "id": "6M_LtXsKLyvM",
    "tags": [],
    "toc-hr-collapsed": true
   },
   "source": [
    "## K Nearest Neighbors"
   ]
  },
  {
   "cell_type": "code",
   "execution_count": null,
   "metadata": {
    "id": "ozUplKHbLyvM"
   },
   "outputs": [],
   "source": [
    "class KNN:\n",
    "    \"\"\"Classe de implementação do K Vizinhos Mais Proximos\"\"\"\n",
    "\n",
    "    def __init__(self, k):\n",
    "        self.k = k\n",
    "        self.k_indices = []\n",
    "\n",
    "    def _get_distances(self, X_source, X_target):\n",
    "        dists = (\n",
    "            -2 * np.dot(X_target, X_source.T)\n",
    "            + np.sum(X_source ** 2, axis=1)\n",
    "            + np.sum(X_target ** 2, axis=1)[:, np.newaxis]\n",
    "        )\n",
    "        return dists\n",
    "\n",
    "    def _find_k_nearest_index(self, distances, k):\n",
    "        return np.argpartition(distances, k, axis=1)[:, :k]\n",
    "\n",
    "    def _find_k_nearest_classes(self, y_target, k_indices):\n",
    "        y_pred = y_target.to_numpy()[k_indices]\n",
    "        return np.where(np.sum(y_pred, axis=1) > k_indices.shape[1] / 2, 1, 0)\n",
    "\n",
    "    def fit(self, X_train, X_test):\n",
    "        distances = self._get_distances(X_train, X_test)\n",
    "        self.k_indices = self._find_k_nearest_index(distances, self.k)\n",
    "\n",
    "    def predict(self, y_train):\n",
    "        return self._find_k_nearest_classes(y_train, self.k_indices)"
   ]
  },
  {
   "cell_type": "markdown",
   "metadata": {
    "id": "v4rDIN8YLyvN",
    "tags": [],
    "toc-hr-collapsed": true
   },
   "source": [
    "# Inicialização"
   ]
  },
  {
   "cell_type": "code",
   "execution_count": null,
   "metadata": {
    "id": "Rqcqez9QLyvN"
   },
   "outputs": [],
   "source": [
    "df = pd.read_csv(\"breastcancer.csv\", header=None)"
   ]
  },
  {
   "cell_type": "code",
   "execution_count": null,
   "metadata": {
    "id": "8Ie77eWbLyvO"
   },
   "outputs": [],
   "source": [
    "def split_data(df, train_size=0.7, random_state=RANDOM_STATE):\n",
    "    \"\"\"\n",
    "    Divisão dos dados\n",
    "    \"\"\"\n",
    "    df_train = df.sample(frac=train_size, random_state=random_state)\n",
    "    df_test = df.drop(index=df_train.index)\n",
    "\n",
    "    x_train, y_train = df_train.iloc[:, :-1], df_train.iloc[:, -1]\n",
    "    x_test, y_test = df_test.iloc[:, :-1], df_test.iloc[:, -1]\n",
    "\n",
    "    return x_train, x_test, y_train, y_test"
   ]
  },
  {
   "cell_type": "code",
   "execution_count": null,
   "metadata": {
    "id": "RC657OlPLyvO"
   },
   "outputs": [],
   "source": [
    "# Criando variaveis auxiliares para utilizar posteriormente\n",
    "x_train, x_test, y_train, y_test = split_data(\n",
    "    df\n",
    ")  \n",
    "df_train = pd.DataFrame(\n",
    "    np.hstack((x_train.to_numpy(), y_train.to_numpy()[:, np.newaxis]))\n",
    ")\n",
    "df_test = pd.DataFrame(np.hstack((x_test.to_numpy(), y_test.to_numpy()[:, np.newaxis])))"
   ]
  },
  {
   "cell_type": "markdown",
   "metadata": {
    "id": "Jc5GaQqPLyvO",
    "tags": [],
    "toc-hr-collapsed": true
   },
   "source": [
    "# Pré Processamento"
   ]
  },
  {
   "cell_type": "code",
   "execution_count": null,
   "metadata": {
    "id": "8x634RH1LyvP"
   },
   "outputs": [],
   "source": [
    "class Preprocesser:\n",
    "    def __init__(self, x):\n",
    "        self.min = np.min(x, axis=0)\n",
    "        self.max = np.max(x, axis=0)\n",
    "\n",
    "    def make_scaling(self, x):\n",
    "        x_scaled = (x - self.min) / (self.max - self.min)\n",
    "        return x_scaled\n",
    "\n",
    "    def reverse_scaling(self, x_scaled):\n",
    "        x_original = x_scaled * (self.max - self.min) + self.min\n",
    "        return x_original"
   ]
  },
  {
   "cell_type": "code",
   "execution_count": null,
   "metadata": {
    "id": "lrloxfvkLyvP"
   },
   "outputs": [],
   "source": [
    "x_train_scaled = Preprocesser(x_train).make_scaling(x_train)\n",
    "x_test_scaled = Preprocesser(x_train).make_scaling(x_test)"
   ]
  },
  {
   "cell_type": "markdown",
   "metadata": {
    "id": "ZdfenpVhLyvP",
    "tags": [],
    "toc-hr-collapsed": true
   },
   "source": [
    "# Métricas"
   ]
  },
  {
   "cell_type": "code",
   "execution_count": null,
   "metadata": {
    "id": "FEzwk-4pLyvP",
    "tags": []
   },
   "outputs": [],
   "source": [
    "def get_metrics(y_test, y_pred):\n",
    "    \"\"\"\n",
    "    Função para contar os as ocorrências das classes e armazenar os valores da métricas.\n",
    "\n",
    "    TP = True Positives\n",
    "    TN = True Negatives\n",
    "    FP = False Positives\n",
    "    FN = False Negtives\n",
    "    \"\"\"\n",
    "    tp, tn, fp, fn = 0, 0, 0, 0\n",
    "    # counting tp, tn, fn, fp\n",
    "    for x, y in list(zip(y_test, y_pred)):\n",
    "        if x == 1 and x == y:  # y == 1\n",
    "            tp += 1\n",
    "        elif x == 1 and x != y:  # y == 0\n",
    "            fn += 1\n",
    "        elif x == 0 and x == y:  # y == 0\n",
    "            tn += 1\n",
    "        elif x == 0 and x != y:  # y == 1\n",
    "            fp += 1\n",
    "    # create dict of metrics\n",
    "    metrics = dict.fromkeys([\"precision\", \"recall\", \"f1_score\", \"accuracy\"])\n",
    "    metrics[\"precision\"] = tp / (tp + fp)\n",
    "    metrics[\"recall\"] = tp / (tp + fn)\n",
    "    metrics[\"f1_score\"] = (\n",
    "        2\n",
    "        * (metrics[\"recall\"] * metrics[\"precision\"])\n",
    "        / (metrics[\"recall\"] + metrics[\"precision\"])\n",
    "    )\n",
    "    metrics[\"accuracy\"] = (tp + tn) / (tp + fp + tn + fn)\n",
    "\n",
    "    return metrics"
   ]
  },
  {
   "cell_type": "code",
   "execution_count": null,
   "metadata": {
    "id": "_qCFLcrzLyvP",
    "tags": []
   },
   "outputs": [],
   "source": [
    "def get_mean_metrics(metrics_):\n",
    "    \"\"\"\n",
    "    Função para sumarizar os dados que serão recebidos posteriormente pelo kfold.\n",
    "    Necessária pois armazeno todas as informações de cada fold e tiro a média depois.\n",
    "    \"\"\"\n",
    "\n",
    "    # if k_folded get the results from the list of metrics\n",
    "    precision_list = [item[\"metrics\"][\"precision\"] for item in metrics_]\n",
    "    accuracy_list = [item[\"metrics\"][\"accuracy\"] for item in metrics_]\n",
    "    recall_list = [item[\"metrics\"][\"recall\"] for item in metrics_]\n",
    "    f1_score_list = [item[\"metrics\"][\"f1_score\"] for item in metrics_]\n",
    "\n",
    "    values = dict(\n",
    "        precision=[np.mean(precision_list), np.std(precision_list)],\n",
    "        accuracy=[np.mean(accuracy_list), np.std(accuracy_list)],\n",
    "        recall=[np.mean(recall_list), np.std(recall_list)],\n",
    "        f1_score=[np.mean(f1_score_list), np.std(f1_score_list)],\n",
    "    )\n",
    "\n",
    "    # print the list of metrics generated through k-fold\n",
    "    pretty_text = (\n",
    "        f\"Precision: {values['precision'][0]:.2f} ± {values['precision'][1]:.2f}\"\n",
    "    )\n",
    "    pretty_text += (\n",
    "        f\"\\nAccuracy: {values['accuracy'][0]:.2f} ± {values['accuracy'][1]:.2f}\"\n",
    "    )\n",
    "    pretty_text += f\"\\nRecall: {values['recall'][0]:.2f} ± {values['recall'][1]:.2f}\"\n",
    "    pretty_text += (\n",
    "        f\"\\nF1 Score: {values['f1_score'][0]:.2f} ± {values['f1_score'][1]:.2f}\"\n",
    "    )\n",
    "    print(pretty_text)"
   ]
  },
  {
   "cell_type": "markdown",
   "metadata": {
    "id": "U-cMau0ILyvP",
    "tags": [],
    "toc-hr-collapsed": true
   },
   "source": [
    "# K - Fold"
   ]
  },
  {
   "cell_type": "code",
   "execution_count": null,
   "metadata": {
    "id": "SYx4sCWjLyvQ",
    "tags": []
   },
   "outputs": [],
   "source": [
    "class KFoldValidation:\n",
    "    def __init__(self, X, k):\n",
    "        self.X_v = X.copy()\n",
    "        self.k = k\n",
    "        self.k_metrics = []\n",
    "        self.k_indices = np.array_split(X.index, k)\n",
    "\n",
    "    def _make_folds(self, i):\n",
    "        \n",
    "        \"\"\"\"\n",
    "        Função para dividir os indices do dataset em k partes iguais.\n",
    "        A partir dessas k partes, separo 1 para teste e k - 1 para treino,\n",
    "        para fazer a validação. \n",
    "        \"\"\"\n",
    "\n",
    "        # create test fold, using the i-th chunk of the list of indices\n",
    "        X_v_test = self.X_v.loc[self.k_indices[i]]\n",
    "\n",
    "        # create train fold, using the rest that it wasn't used on test\n",
    "        X_v_train = self.X_v.drop(index=self.k_indices[i])\n",
    "\n",
    "        return X_v_train, X_v_test\n",
    "\n",
    "    def _preprocess(self, X_v_train, X_v_test):\n",
    "        X_v_train_scaled = Preprocesser(X_v_train.iloc[:, :-1]).make_scaling(\n",
    "            X_v_train.iloc[:, :-1]\n",
    "        )\n",
    "        X_v_test_scaled = Preprocesser(X_v_train.iloc[:, :-1]).make_scaling(\n",
    "            X_v_test.iloc[:, :-1]\n",
    "        )\n",
    "        return X_v_train_scaled, X_v_test_scaled\n",
    "\n",
    "    def _save_results(self, y_pred, y_test, fold):\n",
    "        # get_scores\n",
    "        metrics = get_metrics(y_test, y_pred)\n",
    "        # save_results\n",
    "        self.k_metrics.append(dict(indices=self.k_indices[fold], metrics=metrics))\n",
    "\n",
    "    def execute(self, classifier, how=\"with_std\"):\n",
    "        \"\"\"\n",
    "        Função de execução do kfold.\n",
    "        Recebe dois argumentos:\n",
    "            1. Classifier -> Classificador que será utilizado\n",
    "            2. How -> Maneira de como se trabalhar os dados (normalização na reg. logistica\n",
    "            mas não nos classificadores estatisticos) .\n",
    "        \"\"\"\n",
    "\n",
    "        for fold in range(self.k):\n",
    "\n",
    "            X_v_train, X_v_test = self._make_folds(fold)\n",
    "\n",
    "            if how == \"with_std\":\n",
    "                X_v_train_scaled, X_v_test_scaled = self._preprocess(\n",
    "                    X_v_train, X_v_test\n",
    "                )\n",
    "                classifier.fit(X_v_train_scaled, X_v_train.iloc[:, -1])\n",
    "                y_pred = classifier.predict(X_v_test_scaled)\n",
    "\n",
    "            if how == \"knn_only\":\n",
    "                X_v_train_scaled, X_v_test_scaled = self._preprocess(\n",
    "                    X_v_train, X_v_test\n",
    "                )\n",
    "                classifier.fit(X_v_train_scaled.to_numpy(), X_v_test_scaled.to_numpy())\n",
    "                y_pred = classifier.predict(X_v_train.iloc[:, -1])\n",
    "\n",
    "            if how == \"without_std\":\n",
    "                classifier.fit(\n",
    "                    X_v_train.iloc[:, :-1].to_numpy(), X_v_train.iloc[:, -1].to_numpy()\n",
    "                )\n",
    "                y_pred = classifier.predict(X_v_test.iloc[:, :-1].to_numpy())\n",
    "\n",
    "            self._save_results(y_pred, X_v_test.iloc[:, -1], fold)"
   ]
  },
  {
   "cell_type": "markdown",
   "metadata": {
    "id": "daNEjYzpLyvQ",
    "tags": [],
    "toc-hr-collapsed": true
   },
   "source": [
    "# Implementação"
   ]
  },
  {
   "cell_type": "markdown",
   "metadata": {
    "id": "fgP9xGUsLyvQ",
    "tags": [],
    "toc-hr-collapsed": true
   },
   "source": [
    "## Regressão Logística"
   ]
  },
  {
   "cell_type": "markdown",
   "metadata": {
    "id": "SKsgTbDsLyvQ",
    "tags": [],
    "toc-hr-collapsed": true
   },
   "source": [
    "### Validação"
   ]
  },
  {
   "cell_type": "code",
   "execution_count": null,
   "metadata": {
    "colab": {
     "base_uri": "https://localhost:8080/"
    },
    "id": "FGW5k_2RLyvQ",
    "outputId": "b2e6f532-6c27-4704-e08f-afe0b6adc196",
    "tags": []
   },
   "outputs": [
    {
     "name": "stdout",
     "output_type": "stream",
     "text": [
      "Precision: 0.93 ± 0.06\n",
      "Accuracy: 0.94 ± 0.05\n",
      "Recall: 0.99 ± 0.02\n",
      "F1 Score: 0.96 ± 0.03\n"
     ]
    }
   ],
   "source": [
    "lr_classifier = LogisticRegression()\n",
    "lr_kfold = KFoldValidation(df_train, 10)\n",
    "lr_kfold.execute(lr_classifier, how=\"with_std\")\n",
    "get_mean_metrics(lr_kfold.k_metrics)"
   ]
  },
  {
   "cell_type": "markdown",
   "metadata": {
    "id": "dz9HzD0uLyvR",
    "tags": [],
    "toc-hr-collapsed": true
   },
   "source": [
    "### Teste Final"
   ]
  },
  {
   "cell_type": "code",
   "execution_count": null,
   "metadata": {
    "colab": {
     "base_uri": "https://localhost:8080/"
    },
    "id": "EKaZhgL7LyvR",
    "outputId": "c3a61cbc-b33f-4411-aeef-2caab7875153",
    "tags": []
   },
   "outputs": [
    {
     "data": {
      "text/plain": [
       "{'accuracy': 0.9649122807017544,\n",
       " 'f1_score': 0.9714285714285713,\n",
       " 'precision': 0.9622641509433962,\n",
       " 'recall': 0.9807692307692307}"
      ]
     },
     "execution_count": 17,
     "metadata": {
      "tags": []
     },
     "output_type": "execute_result"
    }
   ],
   "source": [
    "lr_classifier.fit(x_train_scaled, y_train)\n",
    "get_metrics(y_test, lr_classifier.predict(x_test_scaled))"
   ]
  },
  {
   "cell_type": "code",
   "execution_count": null,
   "metadata": {
    "colab": {
     "base_uri": "https://localhost:8080/",
     "height": 542
    },
    "id": "2tJ_CSkELyvS",
    "outputId": "faeda931-7290-46d1-f4dc-bb59c18093ce",
    "tags": []
   },
   "outputs": [
    {
     "data": {
      "text/html": [
       "<html>\n",
       "<head><meta charset=\"utf-8\" /></head>\n",
       "<body>\n",
       "    <div>\n",
       "            <script src=\"https://cdnjs.cloudflare.com/ajax/libs/mathjax/2.7.5/MathJax.js?config=TeX-AMS-MML_SVG\"></script><script type=\"text/javascript\">if (window.MathJax) {MathJax.Hub.Config({SVG: {font: \"STIX-Web\"}});}</script>\n",
       "                <script type=\"text/javascript\">window.PlotlyConfig = {MathJaxConfig: 'local'};</script>\n",
       "        <script src=\"https://cdn.plot.ly/plotly-latest.min.js\"></script>    \n",
       "            <div id=\"0f13605d-95b1-482a-a43d-ab1145c92126\" class=\"plotly-graph-div\" style=\"height:525px; width:100%;\"></div>\n",
       "            <script type=\"text/javascript\">\n",
       "                \n",
       "                    window.PLOTLYENV=window.PLOTLYENV || {};\n",
       "                    \n",
       "                if (document.getElementById(\"0f13605d-95b1-482a-a43d-ab1145c92126\")) {\n",
       "                    Plotly.newPlot(\n",
       "                        '0f13605d-95b1-482a-a43d-ab1145c92126',\n",
       "                        [{\"hoverlabel\": {\"namelength\": 0}, \"hovertemplate\": \"x=%{x}<br>y=%{y}\", \"legendgroup\": \"\", \"line\": {\"color\": \"rgb(76,114,176)\", \"dash\": \"solid\"}, \"mode\": \"lines\", \"name\": \"\", \"showlegend\": false, \"type\": \"scatter\", \"x\": [0, 1, 2, 3, 4, 5, 6, 7, 8, 9, 10, 11, 12, 13, 14, 15, 16, 17, 18, 19, 20, 21, 22, 23, 24, 25, 26, 27, 28, 29, 30, 31, 32, 33, 34, 35, 36, 37, 38, 39, 40, 41, 42, 43, 44, 45, 46, 47, 48, 49, 50, 51, 52, 53, 54, 55, 56, 57, 58, 59, 60, 61, 62, 63, 64, 65, 66, 67, 68, 69, 70, 71, 72, 73, 74, 75, 76, 77, 78, 79, 80, 81, 82, 83, 84, 85, 86, 87, 88, 89, 90, 91, 92, 93, 94, 95, 96, 97, 98, 99, 100, 101, 102, 103, 104, 105, 106, 107, 108, 109, 110, 111, 112, 113, 114, 115, 116, 117, 118, 119, 120, 121, 122, 123, 124, 125, 126, 127, 128, 129, 130, 131, 132, 133, 134, 135, 136, 137, 138, 139, 140, 141, 142, 143, 144, 145, 146, 147, 148, 149, 150, 151, 152, 153, 154, 155, 156, 157, 158, 159, 160, 161, 162, 163, 164, 165, 166, 167, 168, 169, 170, 171, 172, 173, 174, 175, 176, 177, 178, 179, 180, 181, 182, 183, 184, 185, 186, 187, 188, 189, 190, 191, 192, 193, 194, 195, 196, 197, 198, 199, 200, 201, 202, 203, 204, 205, 206, 207, 208, 209, 210, 211, 212, 213, 214, 215, 216, 217, 218, 219, 220, 221, 222, 223, 224, 225, 226, 227, 228, 229, 230, 231, 232, 233, 234, 235, 236, 237, 238, 239, 240, 241, 242, 243, 244, 245, 246, 247, 248, 249], \"xaxis\": \"x\", \"y\": [794.7801617133271, 674.7800468020063, 560.0307746942559, 453.722807226186, 360.00329136052, 282.9479066568579, 224.64585894387042, 183.86905393657653, 156.85346641852848, 139.32565114199423, 127.86145328173251, 120.14722726500621, 114.73571146885908, 110.74735288552164, 107.6512724561558, 105.12638149589765, 102.97737233049, 101.08450964088112, 99.3736250192418, 97.79813075017674, 96.32820465861403, 94.94427054044844, 93.63305976319317, 92.38522698474269, 91.1939027357025, 90.0538112424383, 88.96072958228406, 87.91115323443543, 86.90208670588848, 85.9309102164939, 84.99529288326366, 84.09313455670538, 83.22252551118251, 82.38171743413466, 81.56910171411518, 80.78319256822361, 80.02261348042805, 79.28608598669825, 78.57242018685027, 77.88050657421756, 77.20930890533603, 76.55785791436713, 75.92524572996356, 75.31062088713794, 74.71318385030725, 74.132182980227, 73.56691088952994, 73.01670114060063, 72.48092524651243, 71.9589899413281, 71.45033469061589, 70.95442941680919, 70.47077241721638, 69.99888845519062, 69.53832700728582, 69.0886606512208, 68.64948358120279, 68.22041023866375, 67.80107404777263, 67.39112624623226, 66.99023480287325, 66.5980834144388, 66.21437057473248, 65.83880870998395, 65.47112337489746, 65.11105250438197, 64.75834571644214, 64.41276366213286, 64.07407741886014, 63.74206792364954, 63.4165254433072, 63.09724907867076, 62.78404630039229, 62.47673251391544, 62.17513065150847, 61.87907078939302, 61.58838978817256, 61.302930954910146, 61.02254372533944, 60.7470833648137, 60.476410686708434, 60.210391787092874, 59.94889779457826, 59.69180463433313, 59.43899280533383, 59.19034716998696, 58.945756755325235, 58.705114565037036, 58.46831740164328, 58.235265698184875, 58.00586335882998, 57.780017607851256, 57.55763884646235, 57.33864051703849, 57.12293897427805, 56.910453362893115, 56.701105501444005, 56.494819771959385, 56.2915230150067, 56.09114442990016, 55.89361547975393, 55.69886980110685, 55.506843117863085, 55.31747315930857, 55.13069958197941, 54.946463895171306, 54.76470938989311, 54.58538107107923, 54.40842559288677, 54.23379119691485, 54.061427653192055, 53.8912862037881, 53.72331950891393, 53.557481595382676, 53.39372780731106, 53.23201475894813, 53.0723002895248, 52.91454342002286, 52.758704311769435, 52.604744226766776, 52.45262548967268, 52.30231145135239, 52.15376645392544, 52.006955797237225, 51.861845706686914, 51.71840330234837, 51.5765965693237, 51.43639432927177, 51.297766213058274, 51.160682634475215, 51.02511476498176, 50.89103450942014, 50.7584144826626, 50.62722798714846, 50.497448991271206, 50.369052108578614, 50.24201257775034, 50.11630624331902, 49.99190953710285, 49.868799460319195, 49.74695356635016, 49.626349944132386, 49.50696720214502, 49.38878445297045, 49.271781298404406, 49.15593781509252, 49.04123454067146, 48.927652460394484, 48.815172994221534, 48.7037779843548, 48.59344968320256, 48.48417074175343, 48.375924198345494, 48.268693467814, 48.1624623310033, 48.05721492462875, 47.952935731474795, 47.84960957091622, 47.74722158975077, 47.64575725333038, 47.54520233698041, 47.44554291769566, 47.34676536610287, 47.248856338679765, 47.15180277022114, 47.05559186654285, 46.96021109741487, 46.86564818971534, 46.77189112079716, 46.67892811205982, 46.58674762271894, 46.495338343766335, 46.40468919211399, 46.31478930491548, 46.225628034058325, 46.137194940821516, 46.049479790692395, 45.96247254833741, 45.87616337272119, 45.7905426123693, 45.705600800769204, 45.62132865190525, 45.5377170559229, 45.454757074917644, 45.37243993884495, 45.29075704154679, 45.209699936890814, 45.129260335018984, 45.04943009870138, 44.97020123979223, 44.891565915784746, 44.81351642646119, 44.73604521063583, 44.65914484298698, 44.58280803097588, 44.50702761184936, 44.43179654972382, 44.35710793274769, 44.28295497034009, 44.209330990503545, 44.136229437207845, 44.063643867843425, 43.991567950741754, 43.919995462761015, 43.848920286934614, 43.77833641018117, 43.70823792107354, 43.63861900766555, 43.56947395537461, 43.50079714491823, 43.43258305030333, 43.364826236866314, 43.29752135936272, 43.23066316010493, 43.16424646714627, 43.09826619251072, 43.032717330466134, 42.96759495584056, 42.90289422237963, 42.83861036114444, 42.77473867894843, 42.71127455683231, 42.648213448575824, 42.58555087924547, 42.52328244377705, 42.46140380559209, 42.399910695247286, 42.33879890911591, 42.27806430810034, 42.21770281637504, 42.15771042015874, 42.0980831665156, 42.03881716218392, 41.97990857243222, 41.92135361994163, 41.863148583713844, 41.80528979800429, 41.747773651279466, 41.69059658519795, 41.63375509361459, 41.577245721607014, 41.521065064524066, 41.465209767055505, 41.409676522322385, 41.35446207098776, 41.29956320038689, 41.2449767436767, 41.19069957900394, 41.13672862869144, 41.083060858442195], \"yaxis\": \"y\"}],\n",
       "                        {\"autosize\": false, \"legend\": {\"tracegroupgap\": 0}, \"template\": {\"data\": {\"bar\": [{\"error_x\": {\"color\": \"rgb(36,36,36)\"}, \"error_y\": {\"color\": \"rgb(36,36,36)\"}, \"marker\": {\"line\": {\"color\": \"rgb(234,234,242)\", \"width\": 0.5}}, \"type\": \"bar\"}], \"barpolar\": [{\"marker\": {\"line\": {\"color\": \"rgb(234,234,242)\", \"width\": 0.5}}, \"type\": \"barpolar\"}], \"carpet\": [{\"aaxis\": {\"endlinecolor\": \"rgb(36,36,36)\", \"gridcolor\": \"white\", \"linecolor\": \"white\", \"minorgridcolor\": \"white\", \"startlinecolor\": \"rgb(36,36,36)\"}, \"baxis\": {\"endlinecolor\": \"rgb(36,36,36)\", \"gridcolor\": \"white\", \"linecolor\": \"white\", \"minorgridcolor\": \"white\", \"startlinecolor\": \"rgb(36,36,36)\"}, \"type\": \"carpet\"}], \"choropleth\": [{\"colorbar\": {\"outlinewidth\": 0, \"tickcolor\": \"rgb(36,36,36)\", \"ticklen\": 8, \"ticks\": \"outside\", \"tickwidth\": 2}, \"type\": \"choropleth\"}], \"contour\": [{\"colorbar\": {\"outlinewidth\": 0, \"tickcolor\": \"rgb(36,36,36)\", \"ticklen\": 8, \"ticks\": \"outside\", \"tickwidth\": 2}, \"colorscale\": [[0.0, \"rgb(2,4,25)\"], [0.06274509803921569, \"rgb(24,15,41)\"], [0.12549019607843137, \"rgb(47,23,57)\"], [0.18823529411764706, \"rgb(71,28,72)\"], [0.25098039215686274, \"rgb(97,30,82)\"], [0.3137254901960784, \"rgb(123,30,89)\"], [0.3764705882352941, \"rgb(150,27,91)\"], [0.4392156862745098, \"rgb(177,22,88)\"], [0.5019607843137255, \"rgb(203,26,79)\"], [0.5647058823529412, \"rgb(223,47,67)\"], [0.6274509803921569, \"rgb(236,76,61)\"], [0.6901960784313725, \"rgb(242,107,73)\"], [0.7529411764705882, \"rgb(244,135,95)\"], [0.8156862745098039, \"rgb(245,162,122)\"], [0.8784313725490196, \"rgb(246,188,153)\"], [0.9411764705882353, \"rgb(247,212,187)\"], [1.0, \"rgb(250,234,220)\"]], \"type\": \"contour\"}], \"contourcarpet\": [{\"colorbar\": {\"outlinewidth\": 0, \"tickcolor\": \"rgb(36,36,36)\", \"ticklen\": 8, \"ticks\": \"outside\", \"tickwidth\": 2}, \"type\": \"contourcarpet\"}], \"heatmap\": [{\"colorbar\": {\"outlinewidth\": 0, \"tickcolor\": \"rgb(36,36,36)\", \"ticklen\": 8, \"ticks\": \"outside\", \"tickwidth\": 2}, \"colorscale\": [[0.0, \"rgb(2,4,25)\"], [0.06274509803921569, \"rgb(24,15,41)\"], [0.12549019607843137, \"rgb(47,23,57)\"], [0.18823529411764706, \"rgb(71,28,72)\"], [0.25098039215686274, \"rgb(97,30,82)\"], [0.3137254901960784, \"rgb(123,30,89)\"], [0.3764705882352941, \"rgb(150,27,91)\"], [0.4392156862745098, \"rgb(177,22,88)\"], [0.5019607843137255, \"rgb(203,26,79)\"], [0.5647058823529412, \"rgb(223,47,67)\"], [0.6274509803921569, \"rgb(236,76,61)\"], [0.6901960784313725, \"rgb(242,107,73)\"], [0.7529411764705882, \"rgb(244,135,95)\"], [0.8156862745098039, \"rgb(245,162,122)\"], [0.8784313725490196, \"rgb(246,188,153)\"], [0.9411764705882353, \"rgb(247,212,187)\"], [1.0, \"rgb(250,234,220)\"]], \"type\": \"heatmap\"}], \"heatmapgl\": [{\"colorbar\": {\"outlinewidth\": 0, \"tickcolor\": \"rgb(36,36,36)\", \"ticklen\": 8, \"ticks\": \"outside\", \"tickwidth\": 2}, \"colorscale\": [[0.0, \"rgb(2,4,25)\"], [0.06274509803921569, \"rgb(24,15,41)\"], [0.12549019607843137, \"rgb(47,23,57)\"], [0.18823529411764706, \"rgb(71,28,72)\"], [0.25098039215686274, \"rgb(97,30,82)\"], [0.3137254901960784, \"rgb(123,30,89)\"], [0.3764705882352941, \"rgb(150,27,91)\"], [0.4392156862745098, \"rgb(177,22,88)\"], [0.5019607843137255, \"rgb(203,26,79)\"], [0.5647058823529412, \"rgb(223,47,67)\"], [0.6274509803921569, \"rgb(236,76,61)\"], [0.6901960784313725, \"rgb(242,107,73)\"], [0.7529411764705882, \"rgb(244,135,95)\"], [0.8156862745098039, \"rgb(245,162,122)\"], [0.8784313725490196, \"rgb(246,188,153)\"], [0.9411764705882353, \"rgb(247,212,187)\"], [1.0, \"rgb(250,234,220)\"]], \"type\": \"heatmapgl\"}], \"histogram\": [{\"marker\": {\"colorbar\": {\"outlinewidth\": 0, \"tickcolor\": \"rgb(36,36,36)\", \"ticklen\": 8, \"ticks\": \"outside\", \"tickwidth\": 2}}, \"type\": \"histogram\"}], \"histogram2d\": [{\"colorbar\": {\"outlinewidth\": 0, \"tickcolor\": \"rgb(36,36,36)\", \"ticklen\": 8, \"ticks\": \"outside\", \"tickwidth\": 2}, \"colorscale\": [[0.0, \"rgb(2,4,25)\"], [0.06274509803921569, \"rgb(24,15,41)\"], [0.12549019607843137, \"rgb(47,23,57)\"], [0.18823529411764706, \"rgb(71,28,72)\"], [0.25098039215686274, \"rgb(97,30,82)\"], [0.3137254901960784, \"rgb(123,30,89)\"], [0.3764705882352941, \"rgb(150,27,91)\"], [0.4392156862745098, \"rgb(177,22,88)\"], [0.5019607843137255, \"rgb(203,26,79)\"], [0.5647058823529412, \"rgb(223,47,67)\"], [0.6274509803921569, \"rgb(236,76,61)\"], [0.6901960784313725, \"rgb(242,107,73)\"], [0.7529411764705882, \"rgb(244,135,95)\"], [0.8156862745098039, \"rgb(245,162,122)\"], [0.8784313725490196, \"rgb(246,188,153)\"], [0.9411764705882353, \"rgb(247,212,187)\"], [1.0, \"rgb(250,234,220)\"]], \"type\": \"histogram2d\"}], \"histogram2dcontour\": [{\"colorbar\": {\"outlinewidth\": 0, \"tickcolor\": \"rgb(36,36,36)\", \"ticklen\": 8, \"ticks\": \"outside\", \"tickwidth\": 2}, \"colorscale\": [[0.0, \"rgb(2,4,25)\"], [0.06274509803921569, \"rgb(24,15,41)\"], [0.12549019607843137, \"rgb(47,23,57)\"], [0.18823529411764706, \"rgb(71,28,72)\"], [0.25098039215686274, \"rgb(97,30,82)\"], [0.3137254901960784, \"rgb(123,30,89)\"], [0.3764705882352941, \"rgb(150,27,91)\"], [0.4392156862745098, \"rgb(177,22,88)\"], [0.5019607843137255, \"rgb(203,26,79)\"], [0.5647058823529412, \"rgb(223,47,67)\"], [0.6274509803921569, \"rgb(236,76,61)\"], [0.6901960784313725, \"rgb(242,107,73)\"], [0.7529411764705882, \"rgb(244,135,95)\"], [0.8156862745098039, \"rgb(245,162,122)\"], [0.8784313725490196, \"rgb(246,188,153)\"], [0.9411764705882353, \"rgb(247,212,187)\"], [1.0, \"rgb(250,234,220)\"]], \"type\": \"histogram2dcontour\"}], \"mesh3d\": [{\"colorbar\": {\"outlinewidth\": 0, \"tickcolor\": \"rgb(36,36,36)\", \"ticklen\": 8, \"ticks\": \"outside\", \"tickwidth\": 2}, \"type\": \"mesh3d\"}], \"parcoords\": [{\"line\": {\"colorbar\": {\"outlinewidth\": 0, \"tickcolor\": \"rgb(36,36,36)\", \"ticklen\": 8, \"ticks\": \"outside\", \"tickwidth\": 2}}, \"type\": \"parcoords\"}], \"pie\": [{\"automargin\": true, \"type\": \"pie\"}], \"scatter\": [{\"marker\": {\"colorbar\": {\"outlinewidth\": 0, \"tickcolor\": \"rgb(36,36,36)\", \"ticklen\": 8, \"ticks\": \"outside\", \"tickwidth\": 2}}, \"type\": \"scatter\"}], \"scatter3d\": [{\"line\": {\"colorbar\": {\"outlinewidth\": 0, \"tickcolor\": \"rgb(36,36,36)\", \"ticklen\": 8, \"ticks\": \"outside\", \"tickwidth\": 2}}, \"marker\": {\"colorbar\": {\"outlinewidth\": 0, \"tickcolor\": \"rgb(36,36,36)\", \"ticklen\": 8, \"ticks\": \"outside\", \"tickwidth\": 2}}, \"type\": \"scatter3d\"}], \"scattercarpet\": [{\"marker\": {\"colorbar\": {\"outlinewidth\": 0, \"tickcolor\": \"rgb(36,36,36)\", \"ticklen\": 8, \"ticks\": \"outside\", \"tickwidth\": 2}}, \"type\": \"scattercarpet\"}], \"scattergeo\": [{\"marker\": {\"colorbar\": {\"outlinewidth\": 0, \"tickcolor\": \"rgb(36,36,36)\", \"ticklen\": 8, \"ticks\": \"outside\", \"tickwidth\": 2}}, \"type\": \"scattergeo\"}], \"scattergl\": [{\"marker\": {\"colorbar\": {\"outlinewidth\": 0, \"tickcolor\": \"rgb(36,36,36)\", \"ticklen\": 8, \"ticks\": \"outside\", \"tickwidth\": 2}}, \"type\": \"scattergl\"}], \"scattermapbox\": [{\"marker\": {\"colorbar\": {\"outlinewidth\": 0, \"tickcolor\": \"rgb(36,36,36)\", \"ticklen\": 8, \"ticks\": \"outside\", \"tickwidth\": 2}}, \"type\": \"scattermapbox\"}], \"scatterpolar\": [{\"marker\": {\"colorbar\": {\"outlinewidth\": 0, \"tickcolor\": \"rgb(36,36,36)\", \"ticklen\": 8, \"ticks\": \"outside\", \"tickwidth\": 2}}, \"type\": \"scatterpolar\"}], \"scatterpolargl\": [{\"marker\": {\"colorbar\": {\"outlinewidth\": 0, \"tickcolor\": \"rgb(36,36,36)\", \"ticklen\": 8, \"ticks\": \"outside\", \"tickwidth\": 2}}, \"type\": \"scatterpolargl\"}], \"scatterternary\": [{\"marker\": {\"colorbar\": {\"outlinewidth\": 0, \"tickcolor\": \"rgb(36,36,36)\", \"ticklen\": 8, \"ticks\": \"outside\", \"tickwidth\": 2}}, \"type\": \"scatterternary\"}], \"surface\": [{\"colorbar\": {\"outlinewidth\": 0, \"tickcolor\": \"rgb(36,36,36)\", \"ticklen\": 8, \"ticks\": \"outside\", \"tickwidth\": 2}, \"colorscale\": [[0.0, \"rgb(2,4,25)\"], [0.06274509803921569, \"rgb(24,15,41)\"], [0.12549019607843137, \"rgb(47,23,57)\"], [0.18823529411764706, \"rgb(71,28,72)\"], [0.25098039215686274, \"rgb(97,30,82)\"], [0.3137254901960784, \"rgb(123,30,89)\"], [0.3764705882352941, \"rgb(150,27,91)\"], [0.4392156862745098, \"rgb(177,22,88)\"], [0.5019607843137255, \"rgb(203,26,79)\"], [0.5647058823529412, \"rgb(223,47,67)\"], [0.6274509803921569, \"rgb(236,76,61)\"], [0.6901960784313725, \"rgb(242,107,73)\"], [0.7529411764705882, \"rgb(244,135,95)\"], [0.8156862745098039, \"rgb(245,162,122)\"], [0.8784313725490196, \"rgb(246,188,153)\"], [0.9411764705882353, \"rgb(247,212,187)\"], [1.0, \"rgb(250,234,220)\"]], \"type\": \"surface\"}], \"table\": [{\"cells\": {\"fill\": {\"color\": \"rgb(231,231,240)\"}, \"line\": {\"color\": \"white\"}}, \"header\": {\"fill\": {\"color\": \"rgb(183,183,191)\"}, \"line\": {\"color\": \"white\"}}, \"type\": \"table\"}]}, \"layout\": {\"annotationdefaults\": {\"arrowcolor\": \"rgb(67,103,167)\"}, \"coloraxis\": {\"colorbar\": {\"outlinewidth\": 0, \"tickcolor\": \"rgb(36,36,36)\", \"ticklen\": 8, \"ticks\": \"outside\", \"tickwidth\": 2}}, \"colorscale\": {\"sequential\": [[0.0, \"rgb(2,4,25)\"], [0.06274509803921569, \"rgb(24,15,41)\"], [0.12549019607843137, \"rgb(47,23,57)\"], [0.18823529411764706, \"rgb(71,28,72)\"], [0.25098039215686274, \"rgb(97,30,82)\"], [0.3137254901960784, \"rgb(123,30,89)\"], [0.3764705882352941, \"rgb(150,27,91)\"], [0.4392156862745098, \"rgb(177,22,88)\"], [0.5019607843137255, \"rgb(203,26,79)\"], [0.5647058823529412, \"rgb(223,47,67)\"], [0.6274509803921569, \"rgb(236,76,61)\"], [0.6901960784313725, \"rgb(242,107,73)\"], [0.7529411764705882, \"rgb(244,135,95)\"], [0.8156862745098039, \"rgb(245,162,122)\"], [0.8784313725490196, \"rgb(246,188,153)\"], [0.9411764705882353, \"rgb(247,212,187)\"], [1.0, \"rgb(250,234,220)\"]], \"sequentialminus\": [[0.0, \"rgb(2,4,25)\"], [0.06274509803921569, \"rgb(24,15,41)\"], [0.12549019607843137, \"rgb(47,23,57)\"], [0.18823529411764706, \"rgb(71,28,72)\"], [0.25098039215686274, \"rgb(97,30,82)\"], [0.3137254901960784, \"rgb(123,30,89)\"], [0.3764705882352941, \"rgb(150,27,91)\"], [0.4392156862745098, \"rgb(177,22,88)\"], [0.5019607843137255, \"rgb(203,26,79)\"], [0.5647058823529412, \"rgb(223,47,67)\"], [0.6274509803921569, \"rgb(236,76,61)\"], [0.6901960784313725, \"rgb(242,107,73)\"], [0.7529411764705882, \"rgb(244,135,95)\"], [0.8156862745098039, \"rgb(245,162,122)\"], [0.8784313725490196, \"rgb(246,188,153)\"], [0.9411764705882353, \"rgb(247,212,187)\"], [1.0, \"rgb(250,234,220)\"]]}, \"colorway\": [\"rgb(76,114,176)\", \"rgb(221,132,82)\", \"rgb(85,168,104)\", \"rgb(196,78,82)\", \"rgb(129,114,179)\", \"rgb(147,120,96)\", \"rgb(218,139,195)\", \"rgb(140,140,140)\", \"rgb(204,185,116)\", \"rgb(100,181,205)\"], \"font\": {\"color\": \"rgb(36,36,36)\"}, \"geo\": {\"bgcolor\": \"white\", \"lakecolor\": \"white\", \"landcolor\": \"rgb(234,234,242)\", \"showlakes\": true, \"showland\": true, \"subunitcolor\": \"white\"}, \"hoverlabel\": {\"align\": \"left\"}, \"hovermode\": \"closest\", \"paper_bgcolor\": \"white\", \"plot_bgcolor\": \"rgb(234,234,242)\", \"polar\": {\"angularaxis\": {\"gridcolor\": \"white\", \"linecolor\": \"white\", \"showgrid\": true, \"ticks\": \"\"}, \"bgcolor\": \"rgb(234,234,242)\", \"radialaxis\": {\"gridcolor\": \"white\", \"linecolor\": \"white\", \"showgrid\": true, \"ticks\": \"\"}}, \"scene\": {\"xaxis\": {\"backgroundcolor\": \"rgb(234,234,242)\", \"gridcolor\": \"white\", \"gridwidth\": 2, \"linecolor\": \"white\", \"showbackground\": true, \"showgrid\": true, \"ticks\": \"\", \"zerolinecolor\": \"white\"}, \"yaxis\": {\"backgroundcolor\": \"rgb(234,234,242)\", \"gridcolor\": \"white\", \"gridwidth\": 2, \"linecolor\": \"white\", \"showbackground\": true, \"showgrid\": true, \"ticks\": \"\", \"zerolinecolor\": \"white\"}, \"zaxis\": {\"backgroundcolor\": \"rgb(234,234,242)\", \"gridcolor\": \"white\", \"gridwidth\": 2, \"linecolor\": \"white\", \"showbackground\": true, \"showgrid\": true, \"ticks\": \"\", \"zerolinecolor\": \"white\"}}, \"shapedefaults\": {\"fillcolor\": \"rgb(67,103,167)\", \"line\": {\"width\": 0}, \"opacity\": 0.5}, \"ternary\": {\"aaxis\": {\"gridcolor\": \"white\", \"linecolor\": \"white\", \"showgrid\": true, \"ticks\": \"\"}, \"baxis\": {\"gridcolor\": \"white\", \"linecolor\": \"white\", \"showgrid\": true, \"ticks\": \"\"}, \"bgcolor\": \"rgb(234,234,242)\", \"caxis\": {\"gridcolor\": \"white\", \"linecolor\": \"white\", \"showgrid\": true, \"ticks\": \"\"}}, \"xaxis\": {\"automargin\": true, \"gridcolor\": \"white\", \"linecolor\": \"white\", \"showgrid\": true, \"ticks\": \"\", \"title\": {\"standoff\": 15}, \"zerolinecolor\": \"white\"}, \"yaxis\": {\"automargin\": true, \"gridcolor\": \"white\", \"linecolor\": \"white\", \"showgrid\": true, \"ticks\": \"\", \"title\": {\"standoff\": 15}, \"zerolinecolor\": \"white\"}}}, \"title\": {\"text\": \"Custo x Itera\\u00e7\\u00e3o\"}, \"xaxis\": {\"anchor\": \"y\", \"domain\": [0.0, 1.0], \"title\": {\"text\": \"Itera\\u00e7\\u00e3o\"}}, \"yaxis\": {\"anchor\": \"x\", \"domain\": [0.0, 1.0], \"title\": {\"text\": \"Custo no Treino\"}}},\n",
       "                        {\"responsive\": true}\n",
       "                    ).then(function(){\n",
       "                            \n",
       "var gd = document.getElementById('0f13605d-95b1-482a-a43d-ab1145c92126');\n",
       "var x = new MutationObserver(function (mutations, observer) {{\n",
       "        var display = window.getComputedStyle(gd).display;\n",
       "        if (!display || display === 'none') {{\n",
       "            console.log([gd, 'removed!']);\n",
       "            Plotly.purge(gd);\n",
       "            observer.disconnect();\n",
       "        }}\n",
       "}});\n",
       "\n",
       "// Listen for the removal of the full notebook cells\n",
       "var notebookContainer = gd.closest('#notebook-container');\n",
       "if (notebookContainer) {{\n",
       "    x.observe(notebookContainer, {childList: true});\n",
       "}}\n",
       "\n",
       "// Listen for the clearing of the current output cell\n",
       "var outputEl = gd.closest('.output');\n",
       "if (outputEl) {{\n",
       "    x.observe(outputEl, {childList: true});\n",
       "}}\n",
       "\n",
       "                        })\n",
       "                };\n",
       "                \n",
       "            </script>\n",
       "        </div>\n",
       "</body>\n",
       "</html>"
      ]
     },
     "metadata": {
      "tags": []
     },
     "output_type": "display_data"
    }
   ],
   "source": [
    "fig = px.line(\n",
    "    x=list(range(np.size(lr_classifier.cost_values))),\n",
    "    y=lr_classifier.cost_values,\n",
    "    title=\"Custo x Iteração\",\n",
    ")\n",
    "fig.update_layout(\n",
    "    autosize=False, xaxis=dict(title=\"Iteração\"), yaxis=dict(title=\"Custo no Treino\")\n",
    ")"
   ]
  },
  {
   "cell_type": "markdown",
   "metadata": {
    "id": "ea2qsoKYLyvU",
    "tags": [],
    "toc-hr-collapsed": true
   },
   "source": [
    "## Analise do Discriminante Gaussiano"
   ]
  },
  {
   "cell_type": "markdown",
   "metadata": {
    "id": "5TxSmxsMLyvU",
    "tags": [],
    "toc-hr-collapsed": true
   },
   "source": [
    "### Validação"
   ]
  },
  {
   "cell_type": "code",
   "execution_count": null,
   "metadata": {
    "colab": {
     "base_uri": "https://localhost:8080/"
    },
    "id": "Dv5QrEWpLyvU",
    "outputId": "b3241c8f-6670-4b7e-838c-b6b5e1425703",
    "tags": []
   },
   "outputs": [
    {
     "name": "stdout",
     "output_type": "stream",
     "text": [
      "Precision: 0.97 ± 0.03\n",
      "Accuracy: 0.94 ± 0.01\n",
      "Recall: 0.94 ± 0.01\n",
      "F1 Score: 0.95 ± 0.01\n"
     ]
    }
   ],
   "source": [
    "qda_classifier = ADG()\n",
    "qda_kfold = KFoldValidation(\n",
    "    df_train, 3\n",
    ")  # Para valores acima de 3, tenho problemas com a inversa da matriz.\n",
    "qda_kfold.execute(qda_classifier, how=\"without_std\")\n",
    "get_mean_metrics(qda_kfold.k_metrics)"
   ]
  },
  {
   "cell_type": "markdown",
   "metadata": {
    "id": "DTO6a4OALyvV",
    "tags": [],
    "toc-hr-collapsed": true
   },
   "source": [
    "### Teste Final"
   ]
  },
  {
   "cell_type": "code",
   "execution_count": null,
   "metadata": {
    "colab": {
     "base_uri": "https://localhost:8080/"
    },
    "id": "K7S41mezLyvV",
    "outputId": "20dbddb3-37c7-4f0c-a873-2798917ab418",
    "tags": []
   },
   "outputs": [
    {
     "data": {
      "text/plain": [
       "{'accuracy': 0.935672514619883,\n",
       " 'f1_score': 0.9452736318407959,\n",
       " 'precision': 0.9134615384615384,\n",
       " 'recall': 0.979381443298969}"
      ]
     },
     "execution_count": 20,
     "metadata": {
      "tags": []
     },
     "output_type": "execute_result"
    }
   ],
   "source": [
    "qda_classifier.fit(df_train.iloc[:, :-1].to_numpy(), df_train.iloc[:, -1].to_numpy())\n",
    "get_metrics(\n",
    "    qda_classifier.predict(df_test.iloc[:, :-1].to_numpy()),\n",
    "    df_test.iloc[:, -1].to_numpy(),\n",
    ")"
   ]
  },
  {
   "cell_type": "markdown",
   "metadata": {
    "id": "u3QlWJ3XLyvV",
    "tags": [],
    "toc-hr-collapsed": true
   },
   "source": [
    "## Naive Bayes Gaussiano"
   ]
  },
  {
   "cell_type": "markdown",
   "metadata": {
    "id": "5yAqXt1XLyvV",
    "tags": [],
    "toc-hr-collapsed": true
   },
   "source": [
    "### Validação"
   ]
  },
  {
   "cell_type": "code",
   "execution_count": null,
   "metadata": {
    "colab": {
     "base_uri": "https://localhost:8080/"
    },
    "id": "8tafwJnkLyvV",
    "outputId": "445cbfff-fc68-4923-d3a2-38346a296543",
    "tags": []
   },
   "outputs": [
    {
     "name": "stdout",
     "output_type": "stream",
     "text": [
      "Precision: 0.93 ± 0.05\n",
      "Accuracy: 0.92 ± 0.03\n",
      "Recall: 0.95 ± 0.03\n",
      "F1 Score: 0.94 ± 0.03\n"
     ]
    }
   ],
   "source": [
    "nbg_classifier = NBG()\n",
    "nbg_kfold = KFoldValidation(\n",
    "    df_train, 10\n",
    ")\n",
    "nbg_kfold.execute(nbg_classifier, how=\"without_std\")\n",
    "get_mean_metrics(nbg_kfold.k_metrics)"
   ]
  },
  {
   "cell_type": "markdown",
   "metadata": {
    "id": "I9IZ8jF7LyvW",
    "tags": [],
    "toc-hr-collapsed": true
   },
   "source": [
    "### Teste Final"
   ]
  },
  {
   "cell_type": "code",
   "execution_count": null,
   "metadata": {
    "colab": {
     "base_uri": "https://localhost:8080/"
    },
    "id": "LHE2_Xy6LyvW",
    "outputId": "c078c4a3-ec9c-4985-ad59-954961f3f750"
   },
   "outputs": [
    {
     "data": {
      "text/plain": [
       "{'accuracy': 0.9298245614035088,\n",
       " 'f1_score': 0.9411764705882353,\n",
       " 'precision': 0.9230769230769231,\n",
       " 'recall': 0.96}"
      ]
     },
     "execution_count": 22,
     "metadata": {
      "tags": []
     },
     "output_type": "execute_result"
    }
   ],
   "source": [
    "nbg_classifier.fit(df_train.iloc[:, :-1].to_numpy(), df_train.iloc[:, -1].to_numpy())\n",
    "\n",
    "get_metrics(\n",
    "    nbg_classifier.predict(df_test.iloc[:, :-1].to_numpy()),\n",
    "    df_test.iloc[:, -1].to_numpy(),\n",
    ")"
   ]
  },
  {
   "cell_type": "markdown",
   "metadata": {
    "id": "M0HIUPmpLyvW",
    "tags": [],
    "toc-hr-collapsed": true
   },
   "source": [
    "## KNN ( K = 3, Euclideano)"
   ]
  },
  {
   "cell_type": "markdown",
   "metadata": {
    "id": "rxYVa9KYLyvW",
    "tags": [],
    "toc-hr-collapsed": true
   },
   "source": [
    "### Validação"
   ]
  },
  {
   "cell_type": "code",
   "execution_count": null,
   "metadata": {
    "colab": {
     "base_uri": "https://localhost:8080/"
    },
    "id": "_FupDAzsLyvX",
    "outputId": "052f1b27-e9e6-4ee3-c0ae-47efab4df816"
   },
   "outputs": [
    {
     "name": "stdout",
     "output_type": "stream",
     "text": [
      "Precision: 0.96 ± 0.03\n",
      "Accuracy: 0.96 ± 0.02\n",
      "Recall: 0.98 ± 0.02\n",
      "F1 Score: 0.97 ± 0.02\n"
     ]
    }
   ],
   "source": [
    "knn_classifier = KNN(3)\n",
    "knn_kfold = KFoldValidation(df_train, 10)\n",
    "knn_kfold.execute(knn_classifier, how=\"knn_only\")\n",
    "get_mean_metrics(knn_kfold.k_metrics)"
   ]
  },
  {
   "cell_type": "markdown",
   "metadata": {
    "id": "sWqz-VG9LyvX",
    "tags": [],
    "toc-hr-collapsed": true
   },
   "source": [
    "### Teste Final"
   ]
  },
  {
   "cell_type": "code",
   "execution_count": null,
   "metadata": {
    "id": "eKA01NJYLyvX"
   },
   "outputs": [],
   "source": [
    "X_train_scaled = x_train_scaled.to_numpy()\n",
    "X_test_scaled = x_test_scaled.to_numpy()"
   ]
  },
  {
   "cell_type": "code",
   "execution_count": null,
   "metadata": {
    "colab": {
     "base_uri": "https://localhost:8080/"
    },
    "id": "gH-Dbmg7LyvX",
    "outputId": "3106b503-2e0b-40e3-df58-049368753671"
   },
   "outputs": [
    {
     "data": {
      "text/plain": [
       "{'accuracy': 0.9532163742690059,\n",
       " 'f1_score': 0.9607843137254902,\n",
       " 'precision': 0.98,\n",
       " 'recall': 0.9423076923076923}"
      ]
     },
     "execution_count": 25,
     "metadata": {
      "tags": []
     },
     "output_type": "execute_result"
    }
   ],
   "source": [
    "knn = KNN(3)\n",
    "knn.fit(X_train_scaled, X_test_scaled)\n",
    "y_pred = knn.predict(y_train)\n",
    "get_metrics(y_test, y_pred)"
   ]
  },
  {
   "cell_type": "markdown",
   "metadata": {
    "id": "1wpfihBTLyvX",
    "tags": [],
    "toc-hr-collapsed": true
   },
   "source": [
    "## Decision Trees"
   ]
  },
  {
   "cell_type": "markdown",
   "metadata": {
    "id": "HPd1y8jXLyvY",
    "tags": [],
    "toc-hr-collapsed": true
   },
   "source": [
    "### Validação"
   ]
  },
  {
   "cell_type": "code",
   "execution_count": null,
   "metadata": {
    "id": "DgN3u-rMLyvY"
   },
   "outputs": [],
   "source": [
    "dt_classifier = DecisionTreeClassifier(criterion=\"gini\", random_state=RANDOM_STATE)\n",
    "dt_kfold = KFoldValidation(df_train, 10)"
   ]
  },
  {
   "cell_type": "code",
   "execution_count": null,
   "metadata": {
    "id": "m6ms2vvjLyvY"
   },
   "outputs": [],
   "source": [
    "dt_kfold.execute(dt_classifier, how=\"without_std\")"
   ]
  },
  {
   "cell_type": "code",
   "execution_count": null,
   "metadata": {
    "colab": {
     "base_uri": "https://localhost:8080/"
    },
    "id": "HyOvMfvcLyvY",
    "outputId": "57ea1461-05a3-4b34-e0a9-43bc017d48b0"
   },
   "outputs": [
    {
     "name": "stdout",
     "output_type": "stream",
     "text": [
      "Precision: 0.95 ± 0.04\n",
      "Accuracy: 0.93 ± 0.03\n",
      "Recall: 0.95 ± 0.04\n",
      "F1 Score: 0.95 ± 0.02\n"
     ]
    }
   ],
   "source": [
    "get_mean_metrics(dt_kfold.k_metrics)"
   ]
  },
  {
   "cell_type": "markdown",
   "metadata": {
    "id": "5UjEkdIgLyvY",
    "tags": [],
    "toc-hr-collapsed": true
   },
   "source": [
    "### Teste Final"
   ]
  },
  {
   "cell_type": "code",
   "execution_count": null,
   "metadata": {
    "colab": {
     "base_uri": "https://localhost:8080/"
    },
    "id": "6Xwyp58ZLyvY",
    "outputId": "33ff7bd0-7a5e-43ba-dcd3-7f616e8012ff"
   },
   "outputs": [
    {
     "data": {
      "text/plain": [
       "{'accuracy': 0.9122807017543859,\n",
       " 'f1_score': 0.9261083743842364,\n",
       " 'precision': 0.9494949494949495,\n",
       " 'recall': 0.9038461538461539}"
      ]
     },
     "execution_count": 29,
     "metadata": {
      "tags": []
     },
     "output_type": "execute_result"
    }
   ],
   "source": [
    "dt_classifier.fit(X=x_train_scaled, y=y_train)\n",
    "get_metrics(y_test, dt_classifier.predict(x_test_scaled))"
   ]
  }
 ],
 "metadata": {
  "colab": {
   "collapsed_sections": [],
   "name": "davirocha_lista02.ipynb",
   "provenance": [],
   "toc_visible": true
  },
  "kernelspec": {
   "display_name": "Python 3",
   "language": "python",
   "name": "python3"
  },
  "language_info": {
   "codemirror_mode": {
    "name": "ipython",
    "version": 3
   },
   "file_extension": ".py",
   "mimetype": "text/x-python",
   "name": "python",
   "nbconvert_exporter": "python",
   "pygments_lexer": "ipython3",
   "version": "3.9.5"
  },
  "toc-autonumbering": true,
  "toc-showtags": false
 },
 "nbformat": 4,
 "nbformat_minor": 4
}
