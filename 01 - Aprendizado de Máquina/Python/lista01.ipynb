{
 "cells": [
  {
   "cell_type": "code",
   "execution_count": 60,
   "id": "18599df0-d7cc-449c-9b4f-480ed9c9b7e7",
   "metadata": {},
   "outputs": [],
   "source": [
    "import pandas as pd\n",
    "import numpy as np\n",
    "from scipy import stats"
   ]
  },
  {
   "cell_type": "code",
   "execution_count": 2,
   "id": "dc1457cb-b429-45c9-bae9-3cca09a8c79d",
   "metadata": {},
   "outputs": [],
   "source": [
    "boston = pd.read_csv('boston.csv',header=None)"
   ]
  },
  {
   "cell_type": "code",
   "execution_count": 68,
   "id": "5adb16ef-0dfa-4ec6-bd6c-3fb8a68f1ec3",
   "metadata": {},
   "outputs": [
    {
     "data": {
      "text/plain": [
       "68.57490118577076"
      ]
     },
     "execution_count": 68,
     "metadata": {},
     "output_type": "execute_result"
    }
   ],
   "source": [
    "boston[6].mean()"
   ]
  },
  {
   "cell_type": "code",
   "execution_count": 43,
   "id": "3ea42ff7-bd5c-4991-a76e-998c8760eec7",
   "metadata": {},
   "outputs": [
    {
     "data": {
      "text/plain": [
       "28.148861406903617"
      ]
     },
     "execution_count": 43,
     "metadata": {},
     "output_type": "execute_result"
    }
   ],
   "source": [
    "boston[6].std()"
   ]
  },
  {
   "cell_type": "code",
   "execution_count": 3,
   "id": "23cce0a7-57c9-431b-968c-d95da331f8af",
   "metadata": {},
   "outputs": [],
   "source": [
    "arr = boston.to_numpy()"
   ]
  },
  {
   "cell_type": "markdown",
   "id": "802bdb86-bf60-4c41-8389-dcc6d579cc56",
   "metadata": {},
   "source": [
    "# Normalização do Escore-Z"
   ]
  },
  {
   "cell_type": "code",
   "execution_count": 48,
   "id": "3768fa24-948e-4691-8e8a-1a659811abfc",
   "metadata": {},
   "outputs": [],
   "source": [
    "def mu(vector):\n",
    "    mu = sum(vector)/len(vector)\n",
    "    return mu"
   ]
  },
  {
   "cell_type": "code",
   "execution_count": 49,
   "id": "564910ba-93d5-48b5-b167-6c06c6667580",
   "metadata": {},
   "outputs": [],
   "source": [
    "def sigma(vector):\n",
    "    diffs = (arr[:,6] - mu(vector))\n",
    "    diffs_2 = diffs**2\n",
    "    N = len(diffs)\n",
    "    summation = sum(diffs_2)\n",
    "    sigma = np.sqrt(summation/(N-1))\n",
    "    return sigma"
   ]
  },
  {
   "cell_type": "code",
   "execution_count": 54,
   "id": "4d5dbcd6-f754-4d9b-975a-c94ff844f8e1",
   "metadata": {},
   "outputs": [],
   "source": [
    "def norm_z(vector):\n",
    "    norm_vector = (vector - mu(vector))/sigma(vector)\n",
    "    return norm_vector"
   ]
  },
  {
   "cell_type": "code",
   "execution_count": 66,
   "id": "03433d53-e146-4f51-bd8d-c15638fe5ad6",
   "metadata": {},
   "outputs": [
    {
     "data": {
      "text/plain": [
       "array([ 0.36680343, -0.26554897, -0.80908783, -0.51067434, -0.35080997,\n",
       "       -0.07015919,  0.97784057,  1.1163897 ,  0.61548134])"
      ]
     },
     "execution_count": 66,
     "metadata": {},
     "output_type": "execute_result"
    }
   ],
   "source": [
    "norm_z(arr[:,6])[1:10] "
   ]
  },
  {
   "cell_type": "markdown",
   "id": "20bdd4e2-6159-4fc0-aee1-fd5d6c51e762",
   "metadata": {},
   "source": [
    "# Encontrar Raizes da Função (Newton-Raphson)"
   ]
  },
  {
   "cell_type": "code",
   "execution_count": 81,
   "id": "5b28072e-93aa-463b-a862-e2f1590f6815",
   "metadata": {},
   "outputs": [],
   "source": [
    "def f(x):\n",
    "    return x**2 - 2\n",
    "def fp(x):\n",
    "    return x*2\n",
    "\n",
    "def newton_raphson(x0,tol):\n",
    "    xt1 = x0\n",
    "    while abs(f(xt1)) > tol:\n",
    "        xt2 = xt1 - f(xt1)/fp(xt1)\n",
    "        xt1 = xt2\n",
    "    return xt1"
   ]
  },
  {
   "cell_type": "code",
   "execution_count": 88,
   "id": "d086a619-349d-4324-8253-83f45901979b",
   "metadata": {},
   "outputs": [
    {
     "data": {
      "text/plain": [
       "1.4142156862745099"
      ]
     },
     "execution_count": 88,
     "metadata": {},
     "output_type": "execute_result"
    }
   ],
   "source": [
    "newton_raphson(1,1e-5)"
   ]
  },
  {
   "cell_type": "markdown",
   "id": "b3e9fe4f-a29c-4afb-87f6-8c1cc06751f0",
   "metadata": {},
   "source": [
    "# Regressão Linear Metodos Minimos Quadrados"
   ]
  },
  {
   "cell_type": "code",
   "execution_count": null,
   "id": "9c83d00e-1cf8-470c-a3c3-72dcba0c7dd2",
   "metadata": {},
   "outputs": [],
   "source": []
  }
 ],
 "metadata": {
  "kernelspec": {
   "display_name": "Python 3",
   "language": "python",
   "name": "python3"
  },
  "language_info": {
   "codemirror_mode": {
    "name": "ipython",
    "version": 3
   },
   "file_extension": ".py",
   "mimetype": "text/x-python",
   "name": "python",
   "nbconvert_exporter": "python",
   "pygments_lexer": "ipython3",
   "version": "3.9.5"
  }
 },
 "nbformat": 4,
 "nbformat_minor": 5
}
