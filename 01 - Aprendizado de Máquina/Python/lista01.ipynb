{
 "cells": [
  {
   "cell_type": "code",
   "execution_count": null,
   "id": "9d401b6a-8850-42b2-8402-1124632c8af9",
   "metadata": {},
   "outputs": [],
   "source": [
    "import pandas as pd\n",
    "import numpy as np\n",
    "from scipy import stats\n",
    "import plotly.graph_objects as go"
   ]
  },
  {
   "cell_type": "code",
   "execution_count": null,
   "id": "dc1457cb-b429-45c9-bae9-3cca09a8c79d",
   "metadata": {},
   "outputs": [],
   "source": [
    "boston = pd.read_csv('boston.csv',header=None)"
   ]
  },
  {
   "cell_type": "code",
   "execution_count": null,
   "id": "23cce0a7-57c9-431b-968c-d95da331f8af",
   "metadata": {},
   "outputs": [],
   "source": [
    "arr = boston.to_numpy()"
   ]
  },
  {
   "cell_type": "markdown",
   "id": "802bdb86-bf60-4c41-8389-dcc6d579cc56",
   "metadata": {},
   "source": [
    "# Normalização do Escore-Z"
   ]
  },
  {
   "cell_type": "code",
   "execution_count": null,
   "id": "3768fa24-948e-4691-8e8a-1a659811abfc",
   "metadata": {},
   "outputs": [],
   "source": [
    "def mu(vector):\n",
    "    mu = sum(vector)/len(vector)\n",
    "    return mu"
   ]
  },
  {
   "cell_type": "code",
   "execution_count": null,
   "id": "564910ba-93d5-48b5-b167-6c06c6667580",
   "metadata": {},
   "outputs": [],
   "source": [
    "def sigma(vector):\n",
    "    diffs = (arr[:,6] - mu(vector))\n",
    "    diffs_2 = diffs**2\n",
    "    N = len(diffs)\n",
    "    summation = sum(diffs_2)\n",
    "    sigma = np.sqrt(summation/(N-1))\n",
    "    return sigma"
   ]
  },
  {
   "cell_type": "code",
   "execution_count": null,
   "id": "4d5dbcd6-f754-4d9b-975a-c94ff844f8e1",
   "metadata": {},
   "outputs": [],
   "source": [
    "def norm_z(vector):\n",
    "    norm_vector = (vector - mu(vector))/sigma(vector)\n",
    "    return norm_vector"
   ]
  },
  {
   "cell_type": "code",
   "execution_count": null,
   "id": "03433d53-e146-4f51-bd8d-c15638fe5ad6",
   "metadata": {},
   "outputs": [],
   "source": [
    "norm_z(arr[:,6])[1:10] "
   ]
  },
  {
   "cell_type": "markdown",
   "id": "20bdd4e2-6159-4fc0-aee1-fd5d6c51e762",
   "metadata": {},
   "source": [
    "# Encontrar Raizes da Função (Newton-Raphson)"
   ]
  },
  {
   "cell_type": "code",
   "execution_count": null,
   "id": "5b28072e-93aa-463b-a862-e2f1590f6815",
   "metadata": {},
   "outputs": [],
   "source": [
    "def f(x):\n",
    "    return x**2 - 2\n",
    "def fp(x):\n",
    "    return x*2\n",
    "\n",
    "def newton_raphson(x0,tol):\n",
    "    xt1 = x0\n",
    "    while abs(f(xt1)) > tol:\n",
    "        xt2 = xt1 - f(xt1)/fp(xt1)\n",
    "        xt1 = xt2\n",
    "    return xt1"
   ]
  },
  {
   "cell_type": "code",
   "execution_count": null,
   "id": "d086a619-349d-4324-8253-83f45901979b",
   "metadata": {},
   "outputs": [],
   "source": [
    "newton_raphson(1,1e-5)"
   ]
  },
  {
   "cell_type": "markdown",
   "id": "b3e9fe4f-a29c-4afb-87f6-8c1cc06751f0",
   "metadata": {},
   "source": [
    "# Regressão Linear Metodos Minimos Quadrados"
   ]
  },
  {
   "cell_type": "code",
   "execution_count": null,
   "id": "cd8704da-e4a6-451c-9d0e-414409b0e2f5",
   "metadata": {},
   "outputs": [],
   "source": [
    "import plotly.express as px"
   ]
  },
  {
   "cell_type": "code",
   "execution_count": null,
   "id": "9c83d00e-1cf8-470c-a3c3-72dcba0c7dd2",
   "metadata": {},
   "outputs": [],
   "source": [
    "df_1d = pd.read_csv('artificial1d.csv',header=None)"
   ]
  },
  {
   "cell_type": "code",
   "execution_count": null,
   "id": "adc21614-d9d0-48e9-adea-728dc5fdf594",
   "metadata": {},
   "outputs": [],
   "source": [
    "x = df_1d[0].to_numpy()"
   ]
  },
  {
   "cell_type": "code",
   "execution_count": null,
   "id": "1940050a-c871-4be1-9bf9-8ffe9cfdf025",
   "metadata": {},
   "outputs": [],
   "source": [
    "y = df_1d[1].to_numpy()"
   ]
  },
  {
   "cell_type": "code",
   "execution_count": null,
   "id": "a01aa6bc-187f-4e85-ac92-721616359cc9",
   "metadata": {},
   "outputs": [],
   "source": [
    "px.scatter(x = x,y = y)"
   ]
  },
  {
   "cell_type": "code",
   "execution_count": null,
   "id": "346594b0-526f-4b57-a132-71e529b2cbfb",
   "metadata": {},
   "outputs": [],
   "source": [
    "class AlgoritmoOLS:\n",
    "    def __init__(self):\n",
    "        self.w0 = 0.1\n",
    "        self.w1 = 0.1\n",
    "        self.alfa = 1\n",
    "        self.x_i = []\n",
    "        self.y_i = []\n",
    "        self.valores_mse = []\n",
    "\n",
    "        # print(\"instancia criada\")\n",
    "\n",
    "    def fit(self, x, y):\n",
    "        if isinstance(x, np.ndarray) and isinstance(y, np.ndarray):\n",
    "            self.x_i = x\n",
    "            self.y_i = y\n",
    "        elif isinstance(x, list) and isinstance(y, list):\n",
    "            self.x_i = np.array(x)\n",
    "            self.y_i = np.array(y)\n",
    "        else:\n",
    "            raise TypeError(\"Insira listas ou arrays\")\n",
    "        # print('fittado')\n",
    "\n",
    "    def train(self, alfa=1, num_it=10):\n",
    "        w0_t0 = self.w0\n",
    "        w1_t0 = self.w1\n",
    "        tol = 1\n",
    "        N = self.y_i.size\n",
    "        for i in range(num_it):\n",
    "\n",
    "            ei = self.y_i - self.x_i * w1_t0 - w0_t0\n",
    "            MSE = (1 / 2 * N) * (ei ** 2)\n",
    "            self.valores_mse.append(sum(MSE))\n",
    "            # print(\"ei\",sum(ei))\n",
    "\n",
    "            J_w0 = -(1 / N) * sum(ei)\n",
    "            # print(\"J_w0\",J_w0)\n",
    "\n",
    "            J_w1 = -(1 / N) * sum(ei * self.x_i)\n",
    "            # print(\"J_w1\",J_w1)\n",
    "\n",
    "            w0_t1 = w0_t0 - alfa * J_w0\n",
    "            w1_t1 = w1_t0 - alfa * J_w1\n",
    "\n",
    "            w0_t0 = w0_t1\n",
    "            w1_t0 = w1_t1\n",
    "\n",
    "            # print('---FIM EPOCH----\\n\\n\\n')\n",
    "\n",
    "        # print(sum(ei),J_w0,J_w1,w0_t1,w1_t1)\n",
    "        self.w0 = w0_t0\n",
    "        self.w1 = w1_t0\n",
    "\n",
    "    def plot_line(self, title=\"Regressão\"):\n",
    "        fig = go.Figure(\n",
    "            data=go.Scatter(\n",
    "                x=self.x_i, y=self.x_i * self.w1 + self.w0, name=\"Algoritmo OLS\"\n",
    "            ),\n",
    "            layout=go.Layout(title=title),\n",
    "        )\n",
    "        fig.add_trace(\n",
    "            go.Scatter(x=self.x_i, y=self.y_i, name=\"Dados 1D\", mode=\"markers\")\n",
    "        )\n",
    "\n",
    "        return fig\n",
    "\n",
    "    def plot_mse(self, title=\"MSE x Iterações\"):\n",
    "        fig = go.Figure(\n",
    "            data=go.Scatter(x=list(range(len(self.valores_mse))), y=self.valores_mse),\n",
    "            layout=go.Layout(title=title, yaxis=dict(type=\"log\")),\n",
    "        )\n",
    "        return fig\n",
    "\n",
    "    def animate_line(self):\n",
    "        return\n",
    "\n",
    "    def animate_mse(self):\n",
    "        return"
   ]
  },
  {
   "cell_type": "code",
   "execution_count": null,
   "id": "186ce63e-e9fb-4ac2-a23f-423f0c26b9eb",
   "metadata": {},
   "outputs": [],
   "source": [
    "ols = AlgoritmoOLS()"
   ]
  },
  {
   "cell_type": "code",
   "execution_count": null,
   "id": "74a01308-832e-4d28-b2fa-32a989befb40",
   "metadata": {},
   "outputs": [],
   "source": [
    "ols.fit(x = x, y = y)\n",
    "ols.train()"
   ]
  },
  {
   "cell_type": "code",
   "execution_count": null,
   "id": "b0b967ba-f6c6-4794-9f7f-e0d4fe90a9b5",
   "metadata": {},
   "outputs": [],
   "source": [
    "#ESTUDO DE ALFA"
   ]
  },
  {
   "cell_type": "code",
   "execution_count": null,
   "id": "a32f4320-e4a4-478c-94db-b7b370e1b2b7",
   "metadata": {},
   "outputs": [],
   "source": [
    "for alfa in [1e-3,1e-2,1e-1,1,1.5]:\n",
    "    ols = AlgoritmoOLS()\n",
    "    ols.fit(x = x, y = y)\n",
    "    ols.train(alfa)\n",
    "    ols.plot(title = f'Alfa = {alfa}').show()"
   ]
  },
  {
   "cell_type": "code",
   "execution_count": null,
   "id": "d1b589db-bc73-48ec-b2ef-00d51430d2f4",
   "metadata": {},
   "outputs": [],
   "source": [
    "#ESTUDO DAS ITERAÇÕES"
   ]
  },
  {
   "cell_type": "code",
   "execution_count": null,
   "id": "cb41e819-222e-40f4-bde8-bdbe600e773a",
   "metadata": {},
   "outputs": [],
   "source": [
    "for iteracoes in [1,2,10]:\n",
    "    ols = AlgoritmoOLS()\n",
    "    ols.fit(x = x, y = y)\n",
    "    ols.train(num_it = iteracoes)\n",
    "    ols.plot(title = f'Numero de Iteracoes = {iteracoes}').show()"
   ]
  },
  {
   "cell_type": "code",
   "execution_count": null,
   "id": "bc4f6ad4-6d27-4b16-93d3-b94290bc7295",
   "metadata": {},
   "outputs": [],
   "source": [
    "# MSE X ITERAÇÃO"
   ]
  },
  {
   "cell_type": "code",
   "execution_count": null,
   "id": "774258ab-5acb-446e-8ae5-8814084b8d99",
   "metadata": {},
   "outputs": [],
   "source": [
    "ols.plot_mse()"
   ]
  },
  {
   "cell_type": "code",
   "execution_count": null,
   "id": "cc627a07-3bf0-4a0e-bf06-515125a19374",
   "metadata": {},
   "outputs": [],
   "source": [
    "import plotly.graph_objects as go\n",
    "\n",
    "import numpy as np\n",
    "\n",
    "# Generate curve data\n",
    "t = np.linspace(-1, 1, 100)\n",
    "x = t + t ** 2\n",
    "y = t - t ** 2\n",
    "xm = np.min(x) - 1.5\n",
    "xM = np.max(x) + 1.5\n",
    "ym = np.min(y) - 1.5\n",
    "yM = np.max(y) + 1.5\n",
    "N = 50\n",
    "s = np.linspace(-1, 1, N)\n",
    "xx = s + s ** 2\n",
    "yy = s - s ** 2\n",
    "\n",
    "\n",
    "# Create figure\n",
    "fig = go.Figure(\n",
    "    data=[go.Scatter(x=x, y=y,\n",
    "                     mode=\"lines\",\n",
    "                     line=dict(width=2, color=\"blue\")),\n",
    "          go.Scatter(x=x, y=y,\n",
    "                     mode=\"lines\",\n",
    "                     line=dict(width=2, color=\"blue\"))],\n",
    "    layout=go.Layout(\n",
    "        xaxis=dict(range=[xm, xM], autorange=False, zeroline=False),\n",
    "        yaxis=dict(range=[ym, yM], autorange=False, zeroline=False),\n",
    "        title_text=\"Kinematic Generation of a Planar Curve\", hovermode=\"closest\",\n",
    "        updatemenus=[dict(type=\"buttons\",\n",
    "                          buttons=[dict(label=\"Play\",\n",
    "                                        method=\"animate\",\n",
    "                                        args=[None])])]),\n",
    "    frames=[go.Frame(\n",
    "        data=[go.Scatter(\n",
    "            x=[xx[k]],\n",
    "            y=[yy[k]],\n",
    "            mode=\"markers\",\n",
    "            marker=dict(color=\"red\", size=10))])\n",
    "\n",
    "        for k in range(N)]\n",
    ")\n",
    "\n",
    "fig.show()"
   ]
  },
  {
   "cell_type": "code",
   "execution_count": null,
   "id": "17f1685a-1c35-4814-9a01-1689fd681bbb",
   "metadata": {},
   "outputs": [],
   "source": []
  }
 ],
 "metadata": {
  "kernelspec": {
   "display_name": "Python 3",
   "language": "python",
   "name": "python3"
  },
  "language_info": {
   "codemirror_mode": {
    "name": "ipython",
    "version": 3
   },
   "file_extension": ".py",
   "mimetype": "text/x-python",
   "name": "python",
   "nbconvert_exporter": "python",
   "pygments_lexer": "ipython3",
   "version": "3.9.5"
  }
 },
 "nbformat": 4,
 "nbformat_minor": 5
}
