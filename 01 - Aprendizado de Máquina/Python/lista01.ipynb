{
 "cells": [
  {
   "cell_type": "code",
   "execution_count": null,
   "id": "9d401b6a-8850-42b2-8402-1124632c8af9",
   "metadata": {},
   "outputs": [],
   "source": [
    "import pandas as pd\n",
    "import numpy as np\n",
    "from scipy import stats\n",
    "import plotly.graph_objects as go"
   ]
  },
  {
   "cell_type": "code",
   "execution_count": null,
   "id": "dc1457cb-b429-45c9-bae9-3cca09a8c79d",
   "metadata": {},
   "outputs": [],
   "source": [
    "boston = pd.read_csv('boston.csv',header=None)"
   ]
  },
  {
   "cell_type": "code",
   "execution_count": null,
   "id": "23cce0a7-57c9-431b-968c-d95da331f8af",
   "metadata": {},
   "outputs": [],
   "source": [
    "arr = boston.to_numpy()"
   ]
  },
  {
   "cell_type": "markdown",
   "id": "802bdb86-bf60-4c41-8389-dcc6d579cc56",
   "metadata": {
    "tags": [],
    "toc-hr-collapsed": true
   },
   "source": [
    "# Normalização do Escore-Z"
   ]
  },
  {
   "cell_type": "code",
   "execution_count": null,
   "id": "3768fa24-948e-4691-8e8a-1a659811abfc",
   "metadata": {},
   "outputs": [],
   "source": [
    "def mu(vector):\n",
    "    mu = sum(vector)/len(vector)\n",
    "    return mu"
   ]
  },
  {
   "cell_type": "code",
   "execution_count": null,
   "id": "564910ba-93d5-48b5-b167-6c06c6667580",
   "metadata": {},
   "outputs": [],
   "source": [
    "def sigma(vector):\n",
    "    diffs = (arr[:,6] - mu(vector))\n",
    "    diffs_2 = diffs**2\n",
    "    N = len(diffs)\n",
    "    summation = sum(diffs_2)\n",
    "    sigma = np.sqrt(summation/(N-1))\n",
    "    return sigma"
   ]
  },
  {
   "cell_type": "code",
   "execution_count": null,
   "id": "4d5dbcd6-f754-4d9b-975a-c94ff844f8e1",
   "metadata": {},
   "outputs": [],
   "source": [
    "def norm_z(vector):\n",
    "    norm_vector = (vector - mu(vector))/sigma(vector)\n",
    "    return norm_vector"
   ]
  },
  {
   "cell_type": "code",
   "execution_count": null,
   "id": "03433d53-e146-4f51-bd8d-c15638fe5ad6",
   "metadata": {},
   "outputs": [],
   "source": [
    "norm_z(arr[:,6])[1:10] "
   ]
  },
  {
   "cell_type": "markdown",
   "id": "20bdd4e2-6159-4fc0-aee1-fd5d6c51e762",
   "metadata": {
    "tags": [],
    "toc-hr-collapsed": true
   },
   "source": [
    "# Encontrar Raizes da Função (Newton-Raphson)"
   ]
  },
  {
   "cell_type": "code",
   "execution_count": null,
   "id": "5b28072e-93aa-463b-a862-e2f1590f6815",
   "metadata": {},
   "outputs": [],
   "source": [
    "def f(x):\n",
    "    return x**2 - 2\n",
    "def fp(x):\n",
    "    return x*2\n",
    "\n",
    "def newton_raphson(x0,tol):\n",
    "    xt1 = x0\n",
    "    while abs(f(xt1)) > tol:\n",
    "        xt2 = xt1 - f(xt1)/fp(xt1)\n",
    "        xt1 = xt2\n",
    "    return xt1"
   ]
  },
  {
   "cell_type": "code",
   "execution_count": null,
   "id": "d086a619-349d-4324-8253-83f45901979b",
   "metadata": {},
   "outputs": [],
   "source": [
    "newton_raphson(1,1e-5)"
   ]
  },
  {
   "cell_type": "markdown",
   "id": "b3e9fe4f-a29c-4afb-87f6-8c1cc06751f0",
   "metadata": {
    "tags": [],
    "toc-hr-collapsed": true
   },
   "source": [
    "# Regressão Linear - Gradiente Descendente"
   ]
  },
  {
   "cell_type": "code",
   "execution_count": null,
   "id": "cd8704da-e4a6-451c-9d0e-414409b0e2f5",
   "metadata": {},
   "outputs": [],
   "source": [
    "import plotly.express as px"
   ]
  },
  {
   "cell_type": "code",
   "execution_count": null,
   "id": "9c83d00e-1cf8-470c-a3c3-72dcba0c7dd2",
   "metadata": {},
   "outputs": [],
   "source": [
    "df_1d = pd.read_csv('artificial1d.csv',header=None)"
   ]
  },
  {
   "cell_type": "code",
   "execution_count": null,
   "id": "adc21614-d9d0-48e9-adea-728dc5fdf594",
   "metadata": {},
   "outputs": [],
   "source": [
    "x = df_1d[0].to_numpy()"
   ]
  },
  {
   "cell_type": "code",
   "execution_count": null,
   "id": "1940050a-c871-4be1-9bf9-8ffe9cfdf025",
   "metadata": {},
   "outputs": [],
   "source": [
    "y = df_1d[1].to_numpy()"
   ]
  },
  {
   "cell_type": "code",
   "execution_count": null,
   "id": "a01aa6bc-187f-4e85-ac92-721616359cc9",
   "metadata": {},
   "outputs": [],
   "source": [
    "px.scatter(x = x,y = y)"
   ]
  },
  {
   "cell_type": "code",
   "execution_count": null,
   "id": "346594b0-526f-4b57-a132-71e529b2cbfb",
   "metadata": {},
   "outputs": [],
   "source": [
    "class AlgoritmoGD:\n",
    "    def __init__(self):\n",
    "        self.w0 = 0.1\n",
    "        self.w1 = 0.1\n",
    "        self.alfa = 0.1\n",
    "        self.x_i = []\n",
    "        self.y_i = []\n",
    "        self.valores_mse = []\n",
    "        self.valores_w0 = []\n",
    "        self.valores_w1 = []\n",
    "\n",
    "        # print(\"instancia criada\")\n",
    "\n",
    "    def fit(self, x, y):\n",
    "        if isinstance(x, np.ndarray) and isinstance(y, np.ndarray):\n",
    "            self.x_i = x\n",
    "            self.y_i = y\n",
    "        elif isinstance(x, list) and isinstance(y, list):\n",
    "            self.x_i = np.array(x)\n",
    "            self.y_i = np.array(y)\n",
    "        else:\n",
    "            raise TypeError(\"Insira listas ou arrays\")\n",
    "        # print('fittado')\n",
    "\n",
    "    def train(self, alfa=1, num_it=10):\n",
    "        w0_t0 = self.w0\n",
    "        w1_t0 = self.w1\n",
    "        tol = 1\n",
    "        N = self.y_i.size\n",
    "        for i in range(num_it):\n",
    "\n",
    "            ei = self.y_i - self.x_i * w1_t0 - w0_t0\n",
    "            MSE = (1 / 2 * N) * (ei ** 2)\n",
    "            self.valores_mse.append(sum(MSE))\n",
    "            # print(\"ei\",sum(ei))\n",
    "\n",
    "            J_w0 = -(1 / N) * sum(ei)\n",
    "            # print(\"J_w0\",J_w0)\n",
    "\n",
    "            J_w1 = -(1 / N) * sum(ei * self.x_i)\n",
    "            # print(\"J_w1\",J_w1)\n",
    "\n",
    "            w0_t1 = w0_t0 - alfa * J_w0\n",
    "            w1_t1 = w1_t0 - alfa * J_w1\n",
    "\n",
    "            w0_t0 = w0_t1\n",
    "            w1_t0 = w1_t1\n",
    "            \n",
    "            self.valores_w0.append(w0_t0)\n",
    "            self.valores_w1.append(w1_t0)\n",
    "\n",
    "            # print('---FIM EPOCH----\\n\\n\\n')\n",
    "\n",
    "        # print(sum(ei),J_w0,J_w1,w0_t1,w1_t1)\n",
    "        self.w0 = w0_t0\n",
    "        self.w1 = w1_t0\n",
    "\n",
    "    def plot_line(self, title=\"Regressão\"):\n",
    "        fig = go.Figure(\n",
    "            data=go.Scatter(\n",
    "                x=self.x_i, y=self.x_i * self.w1 + self.w0, name=\"Algoritmo GD\"\n",
    "            ),\n",
    "            layout=go.Layout(title=title),\n",
    "        )\n",
    "        fig.add_trace(\n",
    "            go.Scatter(x=self.x_i, y=self.y_i, name=\"Dados 1D\", mode=\"markers\")\n",
    "        )\n",
    "\n",
    "        return fig\n",
    "\n",
    "    def plot_mse(self, title=\"MSE x Iterações\"):\n",
    "        fig = go.Figure(\n",
    "            data=go.Scatter(x=list(range(len(self.valores_mse))), y=self.valores_mse, name = 'MSE'),\n",
    "            layout=go.Layout(title=title, yaxis=dict(type=\"log\")),\n",
    "        )\n",
    "        return fig\n",
    "\n",
    "    def animate_line(self):\n",
    "        return\n",
    "\n",
    "    def animate_mse(self):\n",
    "        return"
   ]
  },
  {
   "cell_type": "code",
   "execution_count": null,
   "id": "186ce63e-e9fb-4ac2-a23f-423f0c26b9eb",
   "metadata": {},
   "outputs": [],
   "source": [
    "gd = AlgoritmoGD()"
   ]
  },
  {
   "cell_type": "code",
   "execution_count": null,
   "id": "397922ac-a353-4b96-a776-385b1c6cbd3a",
   "metadata": {},
   "outputs": [],
   "source": [
    "gd.fit(x = x, y = y)\n",
    "gd.train()"
   ]
  },
  {
   "cell_type": "markdown",
   "id": "4eb43ae5-b755-459f-a776-0d1e50052911",
   "metadata": {
    "tags": []
   },
   "source": [
    "## Estudo de Alfa"
   ]
  },
  {
   "cell_type": "code",
   "execution_count": null,
   "id": "a32f4320-e4a4-478c-94db-b7b370e1b2b7",
   "metadata": {
    "tags": []
   },
   "outputs": [],
   "source": [
    "for alfa in [1e-3,1e-2,1e-1,1,1.5]:\n",
    "    gd = AlgoritmoGD()\n",
    "    gd.fit(x = x, y = y)\n",
    "    gd.train(alfa)\n",
    "    gd.plot_line(title = f'Alfa = {alfa}').show()"
   ]
  },
  {
   "cell_type": "markdown",
   "id": "3c81521d-3be6-442d-affc-6437839a3a54",
   "metadata": {
    "tags": []
   },
   "source": [
    "## Estudo Iterações"
   ]
  },
  {
   "cell_type": "code",
   "execution_count": null,
   "id": "cb41e819-222e-40f4-bde8-bdbe600e773a",
   "metadata": {
    "tags": []
   },
   "outputs": [],
   "source": [
    "for iteracoes in [1,5,10]:\n",
    "    gd = AlgoritmoGD()\n",
    "    gd.fit(x = x, y = y)\n",
    "    gd.train(num_it = iteracoes)\n",
    "    gd.plot_line(title = f'Numero de Iteracoes = {iteracoes}').show()"
   ]
  },
  {
   "cell_type": "markdown",
   "id": "8a4db558-c0d6-48e6-a7c1-74ed74a969f0",
   "metadata": {
    "tags": []
   },
   "source": [
    "## MSE X ITERAÇÃO"
   ]
  },
  {
   "cell_type": "code",
   "execution_count": null,
   "id": "8f0796fb-a50e-4b5a-b1e6-c217e07659ea",
   "metadata": {
    "tags": []
   },
   "outputs": [],
   "source": [
    "gd = AlgoritmoGD()\n",
    "gd.fit(x = x, y = y)\n",
    "gd.train()"
   ]
  },
  {
   "cell_type": "code",
   "execution_count": null,
   "id": "4bb28f87-7e57-4898-9a60-96abdbcde622",
   "metadata": {
    "tags": []
   },
   "outputs": [],
   "source": [
    "gd.plot_mse()"
   ]
  },
  {
   "cell_type": "markdown",
   "id": "7a882017-e889-4c72-8a8b-333e647738fe",
   "metadata": {
    "tags": []
   },
   "source": [
    "## Plot Dinâmico"
   ]
  },
  {
   "cell_type": "code",
   "execution_count": null,
   "id": "6effafce-dddb-4edf-b944-a05ab11c7a9e",
   "metadata": {
    "tags": []
   },
   "outputs": [],
   "source": [
    "from plotly.subplots import make_subplots\n",
    "\n",
    "fig = make_subplots(\n",
    "    rows=1, cols=2, subplot_titles=('MSE', 'Dados do Problema'),\n",
    "    horizontal_spacing=0.051\n",
    ")\n",
    "\n",
    "fig.add_trace(go.Scatter(x = x,y = y,mode = 'markers', name = 'Dados 1D') ,row=1, col=2) \n",
    "fig.add_trace(go.Scatter(x = x,y = [0]*len(x), name = 'Reta do Algoritmo'),row=1, col=2) \n",
    "\n",
    "fig_data_mse = gd.plot_mse().data[0]\n",
    "fig_data_mse.mode = 'markers'\n",
    "fig_data_mse.marker = dict(color=\"black\", size=5)\n",
    "\n",
    "fig.add_trace(fig_data_mse, row=1, col=1)\n",
    "\n",
    "fig.add_trace(go.Scatter(x = [0], y = [gd.valores_mse[0]], name = 'Iterações',mode = 'markers',opacity = 0.6,  marker = dict(color = 'red')), row=1, col=1)  \n",
    "\n",
    "frames =[go.Frame(data=[go.Scatter(visible=True),\n",
    "                        \n",
    "                        go.Scatter(x = x, y = gd.valores_w0[k] + gd.valores_w1[k]*x),\n",
    "                        \n",
    "                        go.Scatter(visible=True),\n",
    "                        \n",
    "                        go.Scatter(x = [k] ,y = [gd.valores_mse[k]], mode = 'markers',marker=dict(color=\"red\", size=10))],\n",
    "                  traces=[0,1,2,3]) for k in range(len(gd.valores_mse))]\n",
    "\n",
    "fig.frames=frames\n",
    "button = dict(\n",
    "             label='Play',\n",
    "             method='animate',\n",
    "             args=[None, dict(frame=dict(duration=1000, redraw=False),\n",
    "                              fromcurrent=True,\n",
    "                              mode='animate')])\n",
    "fig.update_layout(updatemenus=[dict(type='buttons',\n",
    "                              showactive=False,\n",
    "                              y=0,\n",
    "                              x=1.05,\n",
    "                              xanchor='left',\n",
    "                              yanchor='bottom',\n",
    "                              buttons=[button] )\n",
    "                                      ],\n",
    "                 width=1000, height=500)\n",
    "                              \n",
    "fig "
   ]
  },
  {
   "cell_type": "markdown",
   "id": "c07be891-4784-42ee-8cd0-1c29e4e97014",
   "metadata": {
    "tags": [],
    "toc-hr-collapsed": true
   },
   "source": [
    "# Regressão Linear - OLS"
   ]
  },
  {
   "cell_type": "code",
   "execution_count": null,
   "id": "78783aa0-ee05-4e84-9d04-704b148624fe",
   "metadata": {},
   "outputs": [],
   "source": [
    "class AlgoritmoOLS:\n",
    "    def __init__(self):\n",
    "        self.w0 = 0.1\n",
    "        self.w1 = 0.1\n",
    "        self.alfa = 0.1\n",
    "        self.x_i = []\n",
    "        self.y_i = []\n",
    "        self.valores_mse = []\n",
    "        self.valores_w0 = []\n",
    "        self.valores_w1 = []\n",
    "\n",
    "        # print(\"instancia criada\")\n",
    "\n",
    "    def fit(self, x, y):\n",
    "        if isinstance(x, np.ndarray) and isinstance(y, np.ndarray):\n",
    "            self.X = x\n",
    "            self.y_i = y\n",
    "        elif isinstance(x, list) and isinstance(y, list):\n",
    "            self.x_i = np.array(x)\n",
    "            self.y_i = np.array(y)\n",
    "        else:\n",
    "            raise TypeError(\"Insira listas ou arrays\")\n",
    "        # print('fittado')\n",
    "    \n",
    "    def train(self):\n",
    "        W = np.inv(X.T*X)*X.T*y\n",
    "        return W"
   ]
  },
  {
   "cell_type": "code",
   "execution_count": null,
   "id": "a82e303e-ef9d-4a32-94bc-20d406e0cb36",
   "metadata": {},
   "outputs": [],
   "source": [
    "X = np.append([np.ones(30)],[x] ,axis = 0).T"
   ]
  },
  {
   "cell_type": "code",
   "execution_count": null,
   "id": "55610331-0450-4059-baa6-2e2bf42948fb",
   "metadata": {},
   "outputs": [],
   "source": [
    "W = np.linalg.inv(X.T @ X) @ X.T @ y"
   ]
  },
  {
   "cell_type": "code",
   "execution_count": null,
   "id": "f53d6ce5-0155-4112-8a74-55079cb8b6ee",
   "metadata": {},
   "outputs": [],
   "source": [
    "fig = go.Figure(go.Scatter(x = x, y = W[0] + W[1]*x))\n",
    "fig.add_trace(go.Scatter(x = x,y = y, mode = 'markers' ))"
   ]
  },
  {
   "cell_type": "markdown",
   "id": "6be0de2c-f4c2-47e5-9f14-04e4cec8f300",
   "metadata": {
    "tags": [],
    "toc-hr-collapsed": true
   },
   "source": [
    "# Regressão Linear - Gradiente Descendente Estocástico"
   ]
  },
  {
   "cell_type": "code",
   "execution_count": null,
   "id": "538583e2-d407-42b5-bc69-024f538d3271",
   "metadata": {},
   "outputs": [],
   "source": [
    "class AlgoritmoSGD:\n",
    "    def __init__(self):\n",
    "        self.w0 = 0.1\n",
    "        self.w1 = 0.1\n",
    "        self.alfa = 0.1\n",
    "        self.x_i = []\n",
    "        self.y_i = []\n",
    "        self.valores_mse = []\n",
    "        self.valores_w0 = []\n",
    "        self.valores_w1 = []\n",
    "\n",
    "        # print(\"instancia criada\")\n",
    "\n",
    "    def fit(self, x, y):\n",
    "        if isinstance(x, np.ndarray) and isinstance(y, np.ndarray):\n",
    "            self.x_i = x\n",
    "            self.y_i = y\n",
    "        elif isinstance(x, list) and isinstance(y, list):\n",
    "            self.x_i = np.array(x)\n",
    "            self.y_i = np.array(y)\n",
    "        else:\n",
    "            raise TypeError(\"Insira listas ou arrays\")\n",
    "        # print('fittado')\n",
    "\n",
    "    def train(self, alfa=0.01, num_it=100):\n",
    "        w0_t0 = self.w0\n",
    "        w1_t0 = self.w1\n",
    "        tol = 1\n",
    "        N = self.y_i.size\n",
    "        for i in range(num_it):\n",
    "\n",
    "            ei = self.y_i - self.x_i * w1_t0 - w0_t0\n",
    "            MSE = (1 / 2 * N) * (ei ** 2)\n",
    "\n",
    "            w0_t1 = w0_t0 + alfa * ei\n",
    "            w1_t1 = w1_t0 + alfa * ei * self.x_i\n",
    "\n",
    "            w0_t0 = w0_t1\n",
    "            w1_t0 = w1_t1\n",
    "            \n",
    "            self.valores_w0.append(w0_t0)\n",
    "            self.valores_w1.append(w1_t0)\n",
    "\n",
    "            # print('---FIM EPOCH----\\n\\n\\n')\n",
    "\n",
    "        # print(sum(ei),J_w0,J_w1,w0_t1,w1_t1)\n",
    "        self.w0 = w0_t0\n",
    "        self.w1 = w1_t0"
   ]
  }
 ],
 "metadata": {
  "kernelspec": {
   "display_name": "Python 3",
   "language": "python",
   "name": "python3"
  },
  "language_info": {
   "codemirror_mode": {
    "name": "ipython",
    "version": 3
   },
   "file_extension": ".py",
   "mimetype": "text/x-python",
   "name": "python",
   "nbconvert_exporter": "python",
   "pygments_lexer": "ipython3",
   "version": "3.9.5"
  }
 },
 "nbformat": 4,
 "nbformat_minor": 5
}
