{
 "cells": [
  {
   "cell_type": "code",
   "execution_count": 9,
   "id": "9d401b6a-8850-42b2-8402-1124632c8af9",
   "metadata": {},
   "outputs": [],
   "source": [
    "from random import choice, sample\n",
    "\n",
    "import numpy as np\n",
    "import pandas as pd\n",
    "import plotly.graph_objects as go\n",
    "import plotly.io as pio\n",
    "import plotly.express as px\n",
    "\n",
    "pio.templates.default = \"seaborn\""
   ]
  },
  {
   "cell_type": "markdown",
   "id": "802bdb86-bf60-4c41-8389-dcc6d579cc56",
   "metadata": {
    "tags": [],
    "toc-hr-collapsed": true
   },
   "source": [
    "# Normalização do Escore-Z"
   ]
  },
  {
   "cell_type": "code",
   "execution_count": 6,
   "id": "3768fa24-948e-4691-8e8a-1a659811abfc",
   "metadata": {},
   "outputs": [],
   "source": [
    "def mu(vector):\n",
    "    mu = sum(vector) / len(vector)\n",
    "    return mu"
   ]
  },
  {
   "cell_type": "code",
   "execution_count": 7,
   "id": "564910ba-93d5-48b5-b167-6c06c6667580",
   "metadata": {},
   "outputs": [],
   "source": [
    "def sigma(vector):\n",
    "    diffs = arr[:, 6] - mu(vector)\n",
    "    diffs_2 = diffs ** 2\n",
    "    N = len(diffs)\n",
    "    summation = sum(diffs_2)\n",
    "    sigma = np.sqrt(summation / (N - 1))\n",
    "    return sigma"
   ]
  },
  {
   "cell_type": "code",
   "execution_count": 8,
   "id": "4d5dbcd6-f754-4d9b-975a-c94ff844f8e1",
   "metadata": {},
   "outputs": [],
   "source": [
    "def norm_z(vector):\n",
    "    norm_vector = (vector - mu(vector)) / sigma(vector)\n",
    "    return norm_vector"
   ]
  },
  {
   "cell_type": "markdown",
   "id": "20bdd4e2-6159-4fc0-aee1-fd5d6c51e762",
   "metadata": {
    "tags": [],
    "toc-hr-collapsed": true
   },
   "source": [
    "# Encontrar Raizes da Função (Newton-Raphson)"
   ]
  },
  {
   "cell_type": "code",
   "execution_count": null,
   "id": "5b28072e-93aa-463b-a862-e2f1590f6815",
   "metadata": {},
   "outputs": [],
   "source": [
    "def f(x):\n",
    "    return x ** 2 - 2\n",
    "\n",
    "\n",
    "def fp(x):\n",
    "    return x * 2\n",
    "\n",
    "\n",
    "def newton_raphson(x0, tol):\n",
    "    xt1 = x0\n",
    "    while abs(f(xt1)) > tol:\n",
    "        xt2 = xt1 - f(xt1) / fp(xt1)\n",
    "        xt1 = xt2\n",
    "    return xt1"
   ]
  },
  {
   "cell_type": "code",
   "execution_count": null,
   "id": "d086a619-349d-4324-8253-83f45901979b",
   "metadata": {},
   "outputs": [],
   "source": [
    "newton_raphson(1, 1e-5)"
   ]
  },
  {
   "cell_type": "markdown",
   "id": "b3e9fe4f-a29c-4afb-87f6-8c1cc06751f0",
   "metadata": {
    "tags": [],
    "toc-hr-collapsed": true
   },
   "source": [
    "# Regressão Linear - Gradiente Descendente"
   ]
  },
  {
   "cell_type": "code",
   "execution_count": null,
   "id": "9c83d00e-1cf8-470c-a3c3-72dcba0c7dd2",
   "metadata": {},
   "outputs": [],
   "source": [
    "df_1d = pd.read_csv(\"artificial1d.csv\", header=None)"
   ]
  },
  {
   "cell_type": "code",
   "execution_count": null,
   "id": "adc21614-d9d0-48e9-adea-728dc5fdf594",
   "metadata": {},
   "outputs": [],
   "source": [
    "x = df_1d[0].to_numpy()"
   ]
  },
  {
   "cell_type": "code",
   "execution_count": null,
   "id": "1940050a-c871-4be1-9bf9-8ffe9cfdf025",
   "metadata": {},
   "outputs": [],
   "source": [
    "y = df_1d[1].to_numpy()"
   ]
  },
  {
   "cell_type": "code",
   "execution_count": null,
   "id": "a01aa6bc-187f-4e85-ac92-721616359cc9",
   "metadata": {},
   "outputs": [],
   "source": [
    "px.scatter(x=x, y=y)"
   ]
  },
  {
   "cell_type": "code",
   "execution_count": null,
   "id": "346594b0-526f-4b57-a132-71e529b2cbfb",
   "metadata": {},
   "outputs": [],
   "source": [
    "class AlgoritmoGD:\n",
    "    def __init__(self):\n",
    "        self.w0 = 0\n",
    "        self.w1 = 0\n",
    "        self.x_i = []\n",
    "        self.y_i = []\n",
    "        self.valores_mse = []\n",
    "        self.valores_w0 = []\n",
    "        self.valores_w1 = []\n",
    "\n",
    "        # print(\"instancia criada\")\n",
    "\n",
    "    def fit(self, x, y):\n",
    "        if isinstance(x, np.ndarray) and isinstance(y, np.ndarray):\n",
    "            self.x_i = x\n",
    "            self.y_i = y\n",
    "        elif isinstance(x, list) and isinstance(y, list):\n",
    "            self.x_i = np.array(x)\n",
    "            self.y_i = np.array(y)\n",
    "        else:\n",
    "            raise TypeError(\"Insira listas ou arrays\")\n",
    "        # print('fittado')\n",
    "\n",
    "    def train(self, alfa=1e-2, num_it=1000):\n",
    "        w0_t0 = self.w0\n",
    "        w1_t0 = self.w1\n",
    "        N = self.y_i.size\n",
    "        for i in range(num_it):\n",
    "\n",
    "            ei = self.y_i - self.x_i * w1_t0 - w0_t0\n",
    "            MSE = (ei ** 2) / (N)\n",
    "            self.valores_mse.append(sum(MSE))\n",
    "            # print(\"ei\",sum(ei))\n",
    "\n",
    "            J_w0 = -(1) * sum(ei) / N\n",
    "            # print(\"J_w0\",J_w0)\n",
    "\n",
    "            J_w1 = -(1) * sum(ei * self.x_i) / N\n",
    "            # print(\"J_w1\",J_w1)\n",
    "\n",
    "            w0_t1 = w0_t0 - alfa * J_w0\n",
    "            w1_t1 = w1_t0 - alfa * J_w1\n",
    "\n",
    "            w0_t0 = w0_t1\n",
    "            w1_t0 = w1_t1\n",
    "\n",
    "            self.valores_w0.append(w0_t0)\n",
    "            self.valores_w1.append(w1_t0)\n",
    "\n",
    "            # print('---FIM EPOCH----\\n\\n\\n')\n",
    "\n",
    "        # print(sum(ei),J_w0,J_w1,w0_t1,w1_t1)\n",
    "        self.w0 = w0_t0\n",
    "        self.w1 = w1_t0\n",
    "\n",
    "    def plot_line(self, title=\"Regressão\"):\n",
    "        fig = go.Figure(\n",
    "            data=go.Scatter(\n",
    "                x=self.x_i, y=self.x_i * self.w1 + self.w0, name=\"Algoritmo GD\"\n",
    "            ),\n",
    "            layout=go.Layout(title=title),\n",
    "        )\n",
    "        fig.add_trace(\n",
    "            go.Scatter(x=self.x_i, y=self.y_i, name=\"Dados 1D\", mode=\"markers\")\n",
    "        )\n",
    "\n",
    "        return fig\n",
    "\n",
    "    def plot_mse(self, title=\"MSE x Iterações\"):\n",
    "        fig = go.Figure(\n",
    "            data=go.Scatter(\n",
    "                x=list(range(len(self.valores_mse))), y=self.valores_mse, name=\"MSE\"\n",
    "            ),\n",
    "            layout=go.Layout(title=title),\n",
    "        )\n",
    "        return fig\n",
    "\n",
    "    def animate_line(self):\n",
    "        return\n",
    "\n",
    "    def animate_mse(self):\n",
    "        return"
   ]
  },
  {
   "cell_type": "code",
   "execution_count": null,
   "id": "186ce63e-e9fb-4ac2-a23f-423f0c26b9eb",
   "metadata": {},
   "outputs": [],
   "source": [
    "gd = AlgoritmoGD()"
   ]
  },
  {
   "cell_type": "code",
   "execution_count": null,
   "id": "b6b6b4bb-3a45-4a08-b916-0e67d59709ac",
   "metadata": {},
   "outputs": [],
   "source": [
    "gd.fit(x=x, y=y)\n",
    "gd.train()\n",
    "gd.__dict__.get(\"w0\"), gd.__dict__.get(\"w1\")"
   ]
  },
  {
   "cell_type": "markdown",
   "id": "4eb43ae5-b755-459f-a776-0d1e50052911",
   "metadata": {
    "tags": []
   },
   "source": [
    "## Estudo de Alfa"
   ]
  },
  {
   "cell_type": "code",
   "execution_count": null,
   "id": "a32f4320-e4a4-478c-94db-b7b370e1b2b7",
   "metadata": {
    "tags": []
   },
   "outputs": [],
   "source": [
    "for alfa in [1e-3, 1e-2, 1e-1, 1, 1.5]:\n",
    "    gd = AlgoritmoGD()\n",
    "    gd.fit(x=x, y=y)\n",
    "    gd.train(alfa)\n",
    "    gd.plot_line(title=f\"Alfa = {alfa}\").show()"
   ]
  },
  {
   "cell_type": "markdown",
   "id": "3c81521d-3be6-442d-affc-6437839a3a54",
   "metadata": {
    "tags": []
   },
   "source": [
    "## Estudo Iterações"
   ]
  },
  {
   "cell_type": "code",
   "execution_count": null,
   "id": "cb41e819-222e-40f4-bde8-bdbe600e773a",
   "metadata": {
    "tags": []
   },
   "outputs": [],
   "source": [
    "for iteracoes in [10, 50, 100, 300, 1000]:\n",
    "    gd = AlgoritmoGD()\n",
    "    gd.fit(x=x, y=y)\n",
    "    gd.train(num_it=iteracoes)\n",
    "    gd.plot_line(title=f\"Numero de Iteracoes = {iteracoes}\").show()"
   ]
  },
  {
   "cell_type": "markdown",
   "id": "8a4db558-c0d6-48e6-a7c1-74ed74a969f0",
   "metadata": {
    "tags": []
   },
   "source": [
    "## MSE X ITERAÇÃO"
   ]
  },
  {
   "cell_type": "code",
   "execution_count": null,
   "id": "8f0796fb-a50e-4b5a-b1e6-c217e07659ea",
   "metadata": {
    "tags": []
   },
   "outputs": [],
   "source": [
    "gd = AlgoritmoGD()\n",
    "gd.fit(x=x, y=y)\n",
    "gd.train()\n",
    "gd.plot_mse()"
   ]
  },
  {
   "cell_type": "markdown",
   "id": "7a882017-e889-4c72-8a8b-333e647738fe",
   "metadata": {
    "tags": [],
    "toc-hr-collapsed": true
   },
   "source": [
    "## Plot Dinâmico"
   ]
  },
  {
   "cell_type": "code",
   "execution_count": null,
   "id": "6effafce-dddb-4edf-b944-a05ab11c7a9e",
   "metadata": {
    "tags": []
   },
   "outputs": [],
   "source": [
    "from plotly.subplots import make_subplots\n",
    "\n",
    "fig = make_subplots(\n",
    "    rows=1,\n",
    "    cols=2,\n",
    "    subplot_titles=(\"MSE\", \"Dados do Problema\"),\n",
    "    horizontal_spacing=0.051,\n",
    ")\n",
    "\n",
    "fig.add_trace(go.Scatter(x=x, y=y, mode=\"markers\", name=\"Dados 1D\"), row=1, col=2)\n",
    "fig.add_trace(go.Scatter(x=x, y=[0] * len(x), name=\"Reta do Algoritmo\"), row=1, col=2)\n",
    "\n",
    "fig_data_mse = gd.plot_mse().data[0]\n",
    "# fig_data_mse.mode = 'markers'\n",
    "# fig_data_mse.marker = dict(color=\"black\", size=5)\n",
    "\n",
    "fig.add_trace(fig_data_mse, row=1, col=1)\n",
    "\n",
    "fig.add_trace(\n",
    "    go.Scatter(\n",
    "        x=[0],\n",
    "        y=[gd.valores_mse[0]],\n",
    "        name=\"Iterações\",\n",
    "        mode=\"markers\",\n",
    "        opacity=0.6,\n",
    "        marker=dict(color=\"red\"),\n",
    "    ),\n",
    "    row=1,\n",
    "    col=1,\n",
    ")\n",
    "\n",
    "frames = [\n",
    "    go.Frame(\n",
    "        data=[\n",
    "            go.Scatter(visible=True),\n",
    "            go.Scatter(x=x, y=gd.valores_w0[k] + gd.valores_w1[k] * x),\n",
    "            go.Scatter(visible=True),\n",
    "            go.Scatter(\n",
    "                x=[k],\n",
    "                y=[gd.valores_mse[k]],\n",
    "                mode=\"markers\",\n",
    "                marker=dict(color=\"red\", size=10),\n",
    "            ),\n",
    "        ],\n",
    "        traces=[0, 1, 2, 3],\n",
    "    )\n",
    "    for k in range(0, len(gd.valores_mse), 10)\n",
    "]\n",
    "\n",
    "fig.frames = frames\n",
    "button = dict(\n",
    "    label=\"Play\",\n",
    "    method=\"animate\",\n",
    "    args=[\n",
    "        None,\n",
    "        dict(frame=dict(duration=100, redraw=False), fromcurrent=True, mode=\"animate\"),\n",
    "    ],\n",
    ")\n",
    "fig.update_layout(\n",
    "    updatemenus=[\n",
    "        dict(\n",
    "            type=\"buttons\",\n",
    "            showactive=False,\n",
    "            y=0,\n",
    "            x=1.05,\n",
    "            xanchor=\"left\",\n",
    "            yanchor=\"bottom\",\n",
    "            buttons=[button],\n",
    "        )\n",
    "    ],\n",
    "    width=1000,\n",
    "    height=500,\n",
    ")\n",
    "\n",
    "fig"
   ]
  },
  {
   "cell_type": "markdown",
   "id": "c07be891-4784-42ee-8cd0-1c29e4e97014",
   "metadata": {
    "tags": [],
    "toc-hr-collapsed": true
   },
   "source": [
    "# Regressão Linear - OLS"
   ]
  },
  {
   "cell_type": "code",
   "execution_count": null,
   "id": "78783aa0-ee05-4e84-9d04-704b148624fe",
   "metadata": {},
   "outputs": [],
   "source": [
    "class AlgoritmoOLS:\n",
    "    def __init__(self):\n",
    "        self.w0 = 0\n",
    "        self.w1 = 0\n",
    "        self.alfa = 0.1\n",
    "        self.x_i = []\n",
    "        self.y_i = []\n",
    "        self.valores_mse = []\n",
    "        self.valores_w0 = []\n",
    "        self.valores_w1 = []\n",
    "\n",
    "        # print(\"instancia criada\")\n",
    "\n",
    "    def fit(self, x, y):\n",
    "        if isinstance(x, np.ndarray) and isinstance(y, np.ndarray):\n",
    "            self.X = x\n",
    "            self.y_i = y\n",
    "        elif isinstance(x, list) and isinstance(y, list):\n",
    "            self.x_i = np.array(x)\n",
    "            self.y_i = np.array(y)\n",
    "        else:\n",
    "            raise TypeError(\"Insira listas ou arrays\")\n",
    "        # print('fittado')\n",
    "\n",
    "    def train(self):\n",
    "        W = np.inv(X.T * X) * X.T * y\n",
    "        return W"
   ]
  },
  {
   "cell_type": "code",
   "execution_count": null,
   "id": "a82e303e-ef9d-4a32-94bc-20d406e0cb36",
   "metadata": {},
   "outputs": [],
   "source": [
    "X = np.append([np.ones(30)], [x], axis=0).T"
   ]
  },
  {
   "cell_type": "code",
   "execution_count": null,
   "id": "7088635e-64c2-4573-8c23-35ee86d2782e",
   "metadata": {},
   "outputs": [],
   "source": [
    "W = np.linalg.inv(X.T @ X) @ X.T @ y"
   ]
  },
  {
   "cell_type": "code",
   "execution_count": null,
   "id": "30eff9e9-76f3-48a2-85bb-4bcb21725da1",
   "metadata": {},
   "outputs": [],
   "source": [
    "ei = y - W[0] - W[1] * x"
   ]
  },
  {
   "cell_type": "code",
   "execution_count": null,
   "id": "a2ddd9a0-bf6a-4ece-bdcf-6fe39af3a3ca",
   "metadata": {},
   "outputs": [],
   "source": [
    "W"
   ]
  },
  {
   "cell_type": "code",
   "execution_count": null,
   "id": "bcecacad-f83f-499d-a67e-c87b9a422cc4",
   "metadata": {},
   "outputs": [],
   "source": [
    "MSE = sum(ei ** 2) / len(x)\n",
    "MSE"
   ]
  },
  {
   "cell_type": "code",
   "execution_count": null,
   "id": "f53d6ce5-0155-4112-8a74-55079cb8b6ee",
   "metadata": {},
   "outputs": [],
   "source": [
    "fig = go.Figure(go.Scatter(x=x, y=W[0] + W[1] * x))\n",
    "fig.add_trace(go.Scatter(x=x, y=y, mode=\"markers\"))"
   ]
  },
  {
   "cell_type": "markdown",
   "id": "6be0de2c-f4c2-47e5-9f14-04e4cec8f300",
   "metadata": {
    "tags": [],
    "toc-hr-collapsed": true
   },
   "source": [
    "# Regressão Linear - Gradiente Descendente Estocástico"
   ]
  },
  {
   "cell_type": "code",
   "execution_count": null,
   "id": "538583e2-d407-42b5-bc69-024f538d3271",
   "metadata": {},
   "outputs": [],
   "source": [
    "class AlgoritmoSGD:\n",
    "    def __init__(self):\n",
    "        self.w0 = 1\n",
    "        self.w1 = 1\n",
    "        self.alfa = 0.1\n",
    "        self.x_i = []\n",
    "        self.y_i = []\n",
    "        self.valores_mse = []\n",
    "        self.valores_w0 = []\n",
    "        self.valores_w1 = []\n",
    "        self.ei_iteracao = []\n",
    "\n",
    "        # print(\"instancia criada\")\n",
    "\n",
    "    def fit(self, x, y):\n",
    "        if isinstance(x, np.ndarray) and isinstance(y, np.ndarray):\n",
    "            self.x_i = x\n",
    "            self.y_i = y\n",
    "        elif isinstance(x, list) and isinstance(y, list):\n",
    "            self.x_i = np.array(x)\n",
    "            self.y_i = np.array(y)\n",
    "        else:\n",
    "            raise TypeError(\"Insira listas ou arrays\")\n",
    "        # print('fittado')\n",
    "\n",
    "    def train(self, alfa=1e-2, num_it=30):\n",
    "\n",
    "        w0_t0 = self.w0\n",
    "        w1_t0 = self.w1\n",
    "        tup = list(zip(x, y))\n",
    "        N = self.y_i.size\n",
    "        for i in range(num_it):\n",
    "            ei_iteracao = []\n",
    "            np.random.shuffle(tup)\n",
    "            for xi, yi in tup:\n",
    "                ei = yi - xi * w1_t0 - w0_t0\n",
    "\n",
    "                w0_t1 = w0_t0 + alfa * ei\n",
    "                w1_t1 = w1_t0 + alfa * ei * xi\n",
    "\n",
    "                w0_t0 = w0_t1\n",
    "                w1_t0 = w1_t1\n",
    "\n",
    "                ei_iteracao.append(ei ** 2)\n",
    "\n",
    "                self.valores_mse.append(sum(ei_iteracao) / len(ei_iteracao))\n",
    "\n",
    "        self.w0 = w0_t0\n",
    "        self.w1 = w1_t0\n",
    "\n",
    "    def plot_line(self, title=\"Regressão\"):\n",
    "        fig = go.Figure(\n",
    "            data=go.Scatter(\n",
    "                x=self.x_i, y=self.x_i * self.w1 + self.w0, name=\"Algoritmo SGD\"\n",
    "            ),\n",
    "            layout=go.Layout(title=title),\n",
    "        )\n",
    "        fig.add_trace(\n",
    "            go.Scatter(x=self.x_i, y=self.y_i, name=\"Dados 1D\", mode=\"markers\")\n",
    "        )\n",
    "\n",
    "        return fig\n",
    "\n",
    "    def plot_mse(self, title=\"MSE x Iterações\"):\n",
    "        fig = go.Figure(\n",
    "            data=go.Scatter(\n",
    "                x=list(range(len(self.valores_mse))),\n",
    "                y=self.valores_mse,\n",
    "                name=\"MSE\",\n",
    "            ),\n",
    "            layout=go.Layout(title=title),\n",
    "        )\n",
    "        return fig"
   ]
  },
  {
   "cell_type": "code",
   "execution_count": null,
   "id": "196f35d6-90a3-45a9-a17e-961dc3e9f555",
   "metadata": {},
   "outputs": [],
   "source": [
    "sgd = AlgoritmoSGD()"
   ]
  },
  {
   "cell_type": "code",
   "execution_count": null,
   "id": "96b708d6-15bc-4b13-8dee-0364c812f1a6",
   "metadata": {},
   "outputs": [],
   "source": [
    "sgd.fit(x, y)"
   ]
  },
  {
   "cell_type": "code",
   "execution_count": null,
   "id": "14eb5bc5-1754-44ea-ab47-dc876b38fc77",
   "metadata": {},
   "outputs": [],
   "source": [
    "sgd.train()"
   ]
  },
  {
   "cell_type": "code",
   "execution_count": null,
   "id": "33815776-9626-4536-b5e5-19e08c1c75f2",
   "metadata": {},
   "outputs": [],
   "source": [
    "sgd.__dict__[\"w0\"]"
   ]
  },
  {
   "cell_type": "code",
   "execution_count": null,
   "id": "9dbaf9a6-7af1-4203-9f2a-6f44c57704b6",
   "metadata": {},
   "outputs": [],
   "source": [
    "sgd.__dict__[\"w1\"]"
   ]
  },
  {
   "cell_type": "code",
   "execution_count": null,
   "id": "c880e86d-cc4d-4619-aabf-52edefda1cad",
   "metadata": {},
   "outputs": [],
   "source": [
    "sgd.__dict__.get(\"valores_mse\")[-1]"
   ]
  },
  {
   "cell_type": "code",
   "execution_count": null,
   "id": "f8810345-7023-4df8-aad8-8b2afa8cb6b6",
   "metadata": {},
   "outputs": [],
   "source": [
    "sgd.plot_line()"
   ]
  },
  {
   "cell_type": "code",
   "execution_count": null,
   "id": "86d7b4f8-7949-46eb-b975-afddc0ad2633",
   "metadata": {},
   "outputs": [],
   "source": [
    "sgd.plot_mse()"
   ]
  },
  {
   "cell_type": "markdown",
   "id": "e8109ce5-855e-4fc0-a879-583732518b75",
   "metadata": {
    "tags": [],
    "toc-hr-collapsed": true
   },
   "source": [
    "## ANIMATE SGD"
   ]
  },
  {
   "cell_type": "code",
   "execution_count": null,
   "id": "e7377901-0f1e-4be1-b16f-8331a5dbc3d5",
   "metadata": {},
   "outputs": [],
   "source": [
    "fig = make_subplots(\n",
    "    rows=1,\n",
    "    cols=2,\n",
    "    subplot_titles=(\"MSE\", \"Dados do Problema\"),\n",
    "    horizontal_spacing=0.051,\n",
    ")\n",
    "\n",
    "fig.add_trace(go.Scatter(x=x, y=y, mode=\"markers\", name=\"Dados 1D\"), row=1, col=2)\n",
    "fig.add_trace(go.Scatter(x=x, y=[0] * len(x), name=\"Reta do Algoritmo\"), row=1, col=2)\n",
    "\n",
    "fig_data_mse = sgd.plot_mse().data[0]\n",
    "# fig_data_mse.mode = 'markers'\n",
    "# fig_data_mse.marker = dict(color=\"black\", size=5)\n",
    "\n",
    "fig.add_trace(fig_data_mse, row=1, col=1)\n",
    "\n",
    "fig.add_trace(\n",
    "    go.Scatter(\n",
    "        x=[0],\n",
    "        y=[sgd.valores_mse[0]],\n",
    "        name=\"Iterações\",\n",
    "        mode=\"markers\",\n",
    "        opacity=0.6,\n",
    "        marker=dict(color=\"red\"),\n",
    "    ),\n",
    "    row=1,\n",
    "    col=1,\n",
    ")\n",
    "\n",
    "frames = [\n",
    "    go.Frame(\n",
    "        data=[\n",
    "            go.Scatter(visible=True),\n",
    "            go.Scatter(x=x, y=sgd.valores_w0[k] + sgd.valores_w1[k] * x),\n",
    "            go.Scatter(visible=True),\n",
    "            go.Scatter(\n",
    "                x=[k],\n",
    "                y=[sgd.valores_mse[k]],\n",
    "                mode=\"markers\",\n",
    "                marker=dict(color=\"red\", size=10),\n",
    "            ),\n",
    "        ],\n",
    "        traces=[0, 1, 2, 3],\n",
    "    )\n",
    "    for k in range(0, len(sgd.valores_mse), 5)\n",
    "]\n",
    "\n",
    "fig.frames = frames\n",
    "button = dict(\n",
    "    label=\"Play\",\n",
    "    method=\"animate\",\n",
    "    args=[\n",
    "        None,\n",
    "        dict(frame=dict(duration=1000, redraw=False), fromcurrent=True, mode=\"animate\"),\n",
    "    ],\n",
    ")\n",
    "fig.update_layout(\n",
    "    updatemenus=[\n",
    "        dict(\n",
    "            type=\"buttons\",\n",
    "            showactive=False,\n",
    "            y=0,\n",
    "            x=1.05,\n",
    "            xanchor=\"left\",\n",
    "            yanchor=\"bottom\",\n",
    "            buttons=[button],\n",
    "        )\n",
    "    ],\n",
    "    width=1000,\n",
    "    height=500,\n",
    ")\n",
    "\n",
    "fig"
   ]
  },
  {
   "cell_type": "code",
   "execution_count": null,
   "id": "3cf37918-bafd-4e28-8817-60c33ea36291",
   "metadata": {},
   "outputs": [],
   "source": [
    "sgd.plot_mse()"
   ]
  },
  {
   "cell_type": "markdown",
   "id": "8821a959-b4e8-47e3-a78f-d335489811a2",
   "metadata": {
    "tags": [],
    "toc-hr-collapsed": true
   },
   "source": [
    "# Real"
   ]
  },
  {
   "cell_type": "code",
   "execution_count": null,
   "id": "d790fbff-2688-4761-b87e-69b30bf954c7",
   "metadata": {},
   "outputs": [],
   "source": [
    "from sklearn.linear_model import SGDRegressor"
   ]
  },
  {
   "cell_type": "code",
   "execution_count": null,
   "id": "ed61b17a-7bd2-4cc3-b3d8-5ad898947a9c",
   "metadata": {},
   "outputs": [],
   "source": [
    "sgd = SGDRegressor(alpha=0.01, learning_rate=\"constant\")"
   ]
  },
  {
   "cell_type": "code",
   "execution_count": null,
   "id": "36f00143-dc26-438a-af10-63f659321078",
   "metadata": {},
   "outputs": [],
   "source": [
    "sgd.fit(np.matrix(x).T, y)"
   ]
  },
  {
   "cell_type": "code",
   "execution_count": null,
   "id": "b5e2e272-57aa-4f0c-93ab-6307d7eb4d90",
   "metadata": {},
   "outputs": [],
   "source": [
    "w0 = sgd.intercept_"
   ]
  },
  {
   "cell_type": "code",
   "execution_count": null,
   "id": "e44d967c-82e6-4a4d-9299-4c570e426c64",
   "metadata": {},
   "outputs": [],
   "source": [
    "w1 = sgd.coef_"
   ]
  },
  {
   "cell_type": "code",
   "execution_count": null,
   "id": "8f126422-a349-47a7-8cf9-4bfc3821d54d",
   "metadata": {},
   "outputs": [],
   "source": [
    "sgd.__dict__"
   ]
  },
  {
   "cell_type": "code",
   "execution_count": null,
   "id": "ab573579-0d00-4f01-be0e-a0389aac17ad",
   "metadata": {},
   "outputs": [],
   "source": [
    "sum(((y - w1 * x - w0) ** 2) / len(y))"
   ]
  },
  {
   "cell_type": "code",
   "execution_count": null,
   "id": "96bd7ba8-365f-45f6-9a24-917f1c5623f5",
   "metadata": {},
   "outputs": [],
   "source": [
    "781 / 26"
   ]
  },
  {
   "cell_type": "code",
   "execution_count": null,
   "id": "c35f3ed4-b7b1-4530-b502-d584d0f24550",
   "metadata": {},
   "outputs": [],
   "source": [
    "fig = go.Figure(go.Scatter(x=x, y=w1 * x + w0))\n",
    "fig.add_trace(go.Scatter(x=x, y=y, mode=\"markers\"))"
   ]
  },
  {
   "cell_type": "code",
   "execution_count": null,
   "id": "67668527-04ee-42b2-92da-a56a1886910d",
   "metadata": {},
   "outputs": [],
   "source": [
    "1e-2"
   ]
  },
  {
   "cell_type": "markdown",
   "id": "2924af26-74c1-4990-a100-f31c8ddebe05",
   "metadata": {
    "tags": []
   },
   "source": [
    "# Boston Dataset"
   ]
  },
  {
   "cell_type": "code",
   "execution_count": 10,
   "id": "05ec0911-6ac5-4301-abfc-3fecade00098",
   "metadata": {},
   "outputs": [],
   "source": [
    "boston = pd.read_csv(\"boston.csv\", header=None)"
   ]
  },
  {
   "cell_type": "code",
   "execution_count": 24,
   "id": "b3d3ba38-6c5a-4cfe-b08f-2dd836b3d7eb",
   "metadata": {},
   "outputs": [],
   "source": [
    "y = boston.iloc[:,-1]\n",
    "X = boston.iloc[:,:-1]"
   ]
  },
  {
   "cell_type": "markdown",
   "id": "1dde09be-8a98-459d-99dd-af9055588ea6",
   "metadata": {},
   "source": [
    "## Separando o dataset"
   ]
  },
  {
   "cell_type": "code",
   "execution_count": 25,
   "id": "d97adf4c-520c-41b8-932b-68e08c2c862f",
   "metadata": {},
   "outputs": [],
   "source": [
    "train_size = round(0.8 * y.size)"
   ]
  },
  {
   "cell_type": "code",
   "execution_count": 26,
   "id": "36513d31-73b2-4319-8123-afaa03cba70d",
   "metadata": {},
   "outputs": [],
   "source": [
    "train_indexes = sample(range(y.size), train_size)"
   ]
  },
  {
   "cell_type": "code",
   "execution_count": 27,
   "id": "06c2181b-538e-46aa-b4d9-579e1ab0cd4f",
   "metadata": {},
   "outputs": [],
   "source": [
    "train_sample = boston[boston.index.isin(train_indexes)]"
   ]
  },
  {
   "cell_type": "code",
   "execution_count": 28,
   "id": "084df735-2ceb-4a5a-8443-35c894027f0d",
   "metadata": {},
   "outputs": [],
   "source": [
    "test_sample = boston[~boston.index.isin(train_indexes)]"
   ]
  },
  {
   "cell_type": "code",
   "execution_count": 29,
   "id": "7b085ddc-039a-4ce6-a640-749a1c0c2880",
   "metadata": {},
   "outputs": [],
   "source": [
    "X_test, y_test = test_sample.iloc[:, :-1], test_sample.iloc[:, -1]"
   ]
  },
  {
   "cell_type": "code",
   "execution_count": 30,
   "id": "e4de67b9-129c-4cc1-b721-1d1b7f8d928c",
   "metadata": {},
   "outputs": [],
   "source": [
    "X_train, y_train = train_sample.iloc[:, :-1], train_sample.iloc[:, -1]"
   ]
  },
  {
   "cell_type": "markdown",
   "id": "346fe40d-d537-43b8-b392-1d73e02ac672",
   "metadata": {},
   "source": [
    "## Modelos Polinomiais"
   ]
  },
  {
   "cell_type": "code",
   "execution_count": null,
   "id": "d94acbbb-ebb6-464d-9b3b-d8be210f41db",
   "metadata": {},
   "outputs": [],
   "source": []
  },
  {
   "cell_type": "markdown",
   "id": "60a478c9-cf0f-4058-84b5-c4f9705f87c5",
   "metadata": {},
   "source": [
    "## RMSE"
   ]
  },
  {
   "cell_type": "code",
   "execution_count": null,
   "id": "8ff5bf3b-f32d-473a-87c5-e8c4a7d41fc0",
   "metadata": {},
   "outputs": [],
   "source": []
  },
  {
   "cell_type": "markdown",
   "id": "0d30c3c4-e95a-4dc5-9998-aa07754fd5ab",
   "metadata": {},
   "source": [
    "## Regularização L2"
   ]
  },
  {
   "cell_type": "code",
   "execution_count": null,
   "id": "91d85dfc-d41d-480d-a94d-bcb675395a42",
   "metadata": {},
   "outputs": [],
   "source": []
  },
  {
   "cell_type": "code",
   "execution_count": null,
   "id": "b45b37eb-8244-4090-aea6-ef9a48cdac44",
   "metadata": {},
   "outputs": [],
   "source": []
  }
 ],
 "metadata": {
  "kernelspec": {
   "display_name": "Python 3",
   "language": "python",
   "name": "python3"
  },
  "language_info": {
   "codemirror_mode": {
    "name": "ipython",
    "version": 3
   },
   "file_extension": ".py",
   "mimetype": "text/x-python",
   "name": "python",
   "nbconvert_exporter": "python",
   "pygments_lexer": "ipython3",
   "version": "3.9.5"
  },
  "toc-autonumbering": true,
  "toc-showmarkdowntxt": false,
  "toc-showtags": false
 },
 "nbformat": 4,
 "nbformat_minor": 5
}
